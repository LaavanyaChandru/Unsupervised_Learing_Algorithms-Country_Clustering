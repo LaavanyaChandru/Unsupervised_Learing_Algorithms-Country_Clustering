{
 "cells": [
  {
   "cell_type": "markdown",
   "metadata": {},
   "source": [
    "# Unsupervised Learning-Clustering Countries\n",
    "\n",
    "#### Notebook has following sections:"
   ]
  },
  {
   "cell_type": "markdown",
   "metadata": {},
   "source": [
    ">1-Data cleaning\n",
    "\n",
    ">2-Principal Component Analysis(PCA)-Dimensionality Reduction\n",
    "\n",
    ">3-Outlier Analyis\n",
    "\n",
    ">4-KMeans Clustering\n",
    "\n",
    ">5-Hierarchical clustering"
   ]
  },
  {
   "cell_type": "code",
   "execution_count": 1,
   "metadata": {},
   "outputs": [],
   "source": [
    "#import libraries\n",
    "\n",
    "import numpy as np\n",
    "import pandas as pd\n",
    "import seaborn as sns\n",
    "import matplotlib.pyplot as plt "
   ]
  },
  {
   "cell_type": "code",
   "execution_count": 2,
   "metadata": {},
   "outputs": [
    {
     "data": {
      "text/html": [
       "<div>\n",
       "<style scoped>\n",
       "    .dataframe tbody tr th:only-of-type {\n",
       "        vertical-align: middle;\n",
       "    }\n",
       "\n",
       "    .dataframe tbody tr th {\n",
       "        vertical-align: top;\n",
       "    }\n",
       "\n",
       "    .dataframe thead th {\n",
       "        text-align: right;\n",
       "    }\n",
       "</style>\n",
       "<table border=\"1\" class=\"dataframe\">\n",
       "  <thead>\n",
       "    <tr style=\"text-align: right;\">\n",
       "      <th></th>\n",
       "      <th>country</th>\n",
       "      <th>child_mort</th>\n",
       "      <th>exports</th>\n",
       "      <th>health</th>\n",
       "      <th>imports</th>\n",
       "      <th>income</th>\n",
       "      <th>inflation</th>\n",
       "      <th>life_expec</th>\n",
       "      <th>total_fer</th>\n",
       "      <th>gdpp</th>\n",
       "    </tr>\n",
       "  </thead>\n",
       "  <tbody>\n",
       "    <tr>\n",
       "      <th>0</th>\n",
       "      <td>Afghanistan</td>\n",
       "      <td>90.2</td>\n",
       "      <td>10.0</td>\n",
       "      <td>7.58</td>\n",
       "      <td>44.9</td>\n",
       "      <td>1610</td>\n",
       "      <td>9.44</td>\n",
       "      <td>56.2</td>\n",
       "      <td>5.82</td>\n",
       "      <td>553</td>\n",
       "    </tr>\n",
       "    <tr>\n",
       "      <th>1</th>\n",
       "      <td>Albania</td>\n",
       "      <td>16.6</td>\n",
       "      <td>28.0</td>\n",
       "      <td>6.55</td>\n",
       "      <td>48.6</td>\n",
       "      <td>9930</td>\n",
       "      <td>4.49</td>\n",
       "      <td>76.3</td>\n",
       "      <td>1.65</td>\n",
       "      <td>4090</td>\n",
       "    </tr>\n",
       "    <tr>\n",
       "      <th>2</th>\n",
       "      <td>Algeria</td>\n",
       "      <td>27.3</td>\n",
       "      <td>38.4</td>\n",
       "      <td>4.17</td>\n",
       "      <td>31.4</td>\n",
       "      <td>12900</td>\n",
       "      <td>16.10</td>\n",
       "      <td>76.5</td>\n",
       "      <td>2.89</td>\n",
       "      <td>4460</td>\n",
       "    </tr>\n",
       "    <tr>\n",
       "      <th>3</th>\n",
       "      <td>Angola</td>\n",
       "      <td>119.0</td>\n",
       "      <td>62.3</td>\n",
       "      <td>2.85</td>\n",
       "      <td>42.9</td>\n",
       "      <td>5900</td>\n",
       "      <td>22.40</td>\n",
       "      <td>60.1</td>\n",
       "      <td>6.16</td>\n",
       "      <td>3530</td>\n",
       "    </tr>\n",
       "    <tr>\n",
       "      <th>4</th>\n",
       "      <td>Antigua and Barbuda</td>\n",
       "      <td>10.3</td>\n",
       "      <td>45.5</td>\n",
       "      <td>6.03</td>\n",
       "      <td>58.9</td>\n",
       "      <td>19100</td>\n",
       "      <td>1.44</td>\n",
       "      <td>76.8</td>\n",
       "      <td>2.13</td>\n",
       "      <td>12200</td>\n",
       "    </tr>\n",
       "  </tbody>\n",
       "</table>\n",
       "</div>"
      ],
      "text/plain": [
       "               country  child_mort  exports  health  imports  income  \\\n",
       "0          Afghanistan        90.2     10.0    7.58     44.9    1610   \n",
       "1              Albania        16.6     28.0    6.55     48.6    9930   \n",
       "2              Algeria        27.3     38.4    4.17     31.4   12900   \n",
       "3               Angola       119.0     62.3    2.85     42.9    5900   \n",
       "4  Antigua and Barbuda        10.3     45.5    6.03     58.9   19100   \n",
       "\n",
       "   inflation  life_expec  total_fer   gdpp  \n",
       "0       9.44        56.2       5.82    553  \n",
       "1       4.49        76.3       1.65   4090  \n",
       "2      16.10        76.5       2.89   4460  \n",
       "3      22.40        60.1       6.16   3530  \n",
       "4       1.44        76.8       2.13  12200  "
      ]
     },
     "execution_count": 2,
     "metadata": {},
     "output_type": "execute_result"
    }
   ],
   "source": [
    "#read data \n",
    "\n",
    "cnt = pd.read_csv('Country-data.csv')\n",
    "cnt.head()"
   ]
  },
  {
   "cell_type": "markdown",
   "metadata": {},
   "source": [
    "# Data Cleaning "
   ]
  },
  {
   "cell_type": "code",
   "execution_count": 3,
   "metadata": {},
   "outputs": [
    {
     "name": "stdout",
     "output_type": "stream",
     "text": [
      "<class 'pandas.core.frame.DataFrame'>\n",
      "RangeIndex: 167 entries, 0 to 166\n",
      "Data columns (total 10 columns):\n",
      " #   Column      Non-Null Count  Dtype  \n",
      "---  ------      --------------  -----  \n",
      " 0   country     167 non-null    object \n",
      " 1   child_mort  167 non-null    float64\n",
      " 2   exports     167 non-null    float64\n",
      " 3   health      167 non-null    float64\n",
      " 4   imports     167 non-null    float64\n",
      " 5   income      167 non-null    int64  \n",
      " 6   inflation   167 non-null    float64\n",
      " 7   life_expec  167 non-null    float64\n",
      " 8   total_fer   167 non-null    float64\n",
      " 9   gdpp        167 non-null    int64  \n",
      "dtypes: float64(7), int64(2), object(1)\n",
      "memory usage: 12.5+ KB\n"
     ]
    }
   ],
   "source": [
    "cnt.info()"
   ]
  },
  {
   "cell_type": "code",
   "execution_count": 4,
   "metadata": {},
   "outputs": [
    {
     "data": {
      "text/plain": [
       "country       0\n",
       "child_mort    0\n",
       "exports       0\n",
       "health        0\n",
       "imports       0\n",
       "income        0\n",
       "inflation     0\n",
       "life_expec    0\n",
       "total_fer     0\n",
       "gdpp          0\n",
       "dtype: int64"
      ]
     },
     "execution_count": 4,
     "metadata": {},
     "output_type": "execute_result"
    }
   ],
   "source": [
    "#check missing values\n",
    "\n",
    "cnt.isnull().sum()"
   ]
  },
  {
   "cell_type": "code",
   "execution_count": 5,
   "metadata": {},
   "outputs": [],
   "source": [
    "#Columns such as export, import and health are in Percentage\n",
    "#converting the percentage value to actual values\n",
    "\n",
    "cnt['exports']=(cnt['exports']*cnt['gdpp'])/100\n",
    "cnt['health']=(cnt['health']*cnt['gdpp'])/100\n",
    "cnt['imports']=(cnt['imports']*cnt['gdpp'])/100"
   ]
  },
  {
   "cell_type": "code",
   "execution_count": 6,
   "metadata": {},
   "outputs": [
    {
     "data": {
      "text/html": [
       "<div>\n",
       "<style scoped>\n",
       "    .dataframe tbody tr th:only-of-type {\n",
       "        vertical-align: middle;\n",
       "    }\n",
       "\n",
       "    .dataframe tbody tr th {\n",
       "        vertical-align: top;\n",
       "    }\n",
       "\n",
       "    .dataframe thead th {\n",
       "        text-align: right;\n",
       "    }\n",
       "</style>\n",
       "<table border=\"1\" class=\"dataframe\">\n",
       "  <thead>\n",
       "    <tr style=\"text-align: right;\">\n",
       "      <th></th>\n",
       "      <th>country</th>\n",
       "      <th>child_mort</th>\n",
       "      <th>exports</th>\n",
       "      <th>health</th>\n",
       "      <th>imports</th>\n",
       "      <th>income</th>\n",
       "      <th>inflation</th>\n",
       "      <th>life_expec</th>\n",
       "      <th>total_fer</th>\n",
       "      <th>gdpp</th>\n",
       "    </tr>\n",
       "  </thead>\n",
       "  <tbody>\n",
       "    <tr>\n",
       "      <th>0</th>\n",
       "      <td>Afghanistan</td>\n",
       "      <td>90.2</td>\n",
       "      <td>55.30</td>\n",
       "      <td>41.9174</td>\n",
       "      <td>248.297</td>\n",
       "      <td>1610</td>\n",
       "      <td>9.44</td>\n",
       "      <td>56.2</td>\n",
       "      <td>5.82</td>\n",
       "      <td>553</td>\n",
       "    </tr>\n",
       "    <tr>\n",
       "      <th>1</th>\n",
       "      <td>Albania</td>\n",
       "      <td>16.6</td>\n",
       "      <td>1145.20</td>\n",
       "      <td>267.8950</td>\n",
       "      <td>1987.740</td>\n",
       "      <td>9930</td>\n",
       "      <td>4.49</td>\n",
       "      <td>76.3</td>\n",
       "      <td>1.65</td>\n",
       "      <td>4090</td>\n",
       "    </tr>\n",
       "    <tr>\n",
       "      <th>2</th>\n",
       "      <td>Algeria</td>\n",
       "      <td>27.3</td>\n",
       "      <td>1712.64</td>\n",
       "      <td>185.9820</td>\n",
       "      <td>1400.440</td>\n",
       "      <td>12900</td>\n",
       "      <td>16.10</td>\n",
       "      <td>76.5</td>\n",
       "      <td>2.89</td>\n",
       "      <td>4460</td>\n",
       "    </tr>\n",
       "    <tr>\n",
       "      <th>3</th>\n",
       "      <td>Angola</td>\n",
       "      <td>119.0</td>\n",
       "      <td>2199.19</td>\n",
       "      <td>100.6050</td>\n",
       "      <td>1514.370</td>\n",
       "      <td>5900</td>\n",
       "      <td>22.40</td>\n",
       "      <td>60.1</td>\n",
       "      <td>6.16</td>\n",
       "      <td>3530</td>\n",
       "    </tr>\n",
       "    <tr>\n",
       "      <th>4</th>\n",
       "      <td>Antigua and Barbuda</td>\n",
       "      <td>10.3</td>\n",
       "      <td>5551.00</td>\n",
       "      <td>735.6600</td>\n",
       "      <td>7185.800</td>\n",
       "      <td>19100</td>\n",
       "      <td>1.44</td>\n",
       "      <td>76.8</td>\n",
       "      <td>2.13</td>\n",
       "      <td>12200</td>\n",
       "    </tr>\n",
       "  </tbody>\n",
       "</table>\n",
       "</div>"
      ],
      "text/plain": [
       "               country  child_mort  exports    health   imports  income  \\\n",
       "0          Afghanistan        90.2    55.30   41.9174   248.297    1610   \n",
       "1              Albania        16.6  1145.20  267.8950  1987.740    9930   \n",
       "2              Algeria        27.3  1712.64  185.9820  1400.440   12900   \n",
       "3               Angola       119.0  2199.19  100.6050  1514.370    5900   \n",
       "4  Antigua and Barbuda        10.3  5551.00  735.6600  7185.800   19100   \n",
       "\n",
       "   inflation  life_expec  total_fer   gdpp  \n",
       "0       9.44        56.2       5.82    553  \n",
       "1       4.49        76.3       1.65   4090  \n",
       "2      16.10        76.5       2.89   4460  \n",
       "3      22.40        60.1       6.16   3530  \n",
       "4       1.44        76.8       2.13  12200  "
      ]
     },
     "execution_count": 6,
     "metadata": {},
     "output_type": "execute_result"
    }
   ],
   "source": [
    "cnt.head()"
   ]
  },
  {
   "cell_type": "code",
   "execution_count": 7,
   "metadata": {},
   "outputs": [
    {
     "data": {
      "text/html": [
       "<div>\n",
       "<style scoped>\n",
       "    .dataframe tbody tr th:only-of-type {\n",
       "        vertical-align: middle;\n",
       "    }\n",
       "\n",
       "    .dataframe tbody tr th {\n",
       "        vertical-align: top;\n",
       "    }\n",
       "\n",
       "    .dataframe thead th {\n",
       "        text-align: right;\n",
       "    }\n",
       "</style>\n",
       "<table border=\"1\" class=\"dataframe\">\n",
       "  <thead>\n",
       "    <tr style=\"text-align: right;\">\n",
       "      <th></th>\n",
       "      <th>child_mort</th>\n",
       "      <th>exports</th>\n",
       "      <th>health</th>\n",
       "      <th>imports</th>\n",
       "      <th>income</th>\n",
       "      <th>inflation</th>\n",
       "      <th>life_expec</th>\n",
       "      <th>total_fer</th>\n",
       "      <th>gdpp</th>\n",
       "    </tr>\n",
       "  </thead>\n",
       "  <tbody>\n",
       "    <tr>\n",
       "      <th>0</th>\n",
       "      <td>90.2</td>\n",
       "      <td>55.30</td>\n",
       "      <td>41.9174</td>\n",
       "      <td>248.297</td>\n",
       "      <td>1610</td>\n",
       "      <td>9.44</td>\n",
       "      <td>56.2</td>\n",
       "      <td>5.82</td>\n",
       "      <td>553</td>\n",
       "    </tr>\n",
       "    <tr>\n",
       "      <th>1</th>\n",
       "      <td>16.6</td>\n",
       "      <td>1145.20</td>\n",
       "      <td>267.8950</td>\n",
       "      <td>1987.740</td>\n",
       "      <td>9930</td>\n",
       "      <td>4.49</td>\n",
       "      <td>76.3</td>\n",
       "      <td>1.65</td>\n",
       "      <td>4090</td>\n",
       "    </tr>\n",
       "    <tr>\n",
       "      <th>2</th>\n",
       "      <td>27.3</td>\n",
       "      <td>1712.64</td>\n",
       "      <td>185.9820</td>\n",
       "      <td>1400.440</td>\n",
       "      <td>12900</td>\n",
       "      <td>16.10</td>\n",
       "      <td>76.5</td>\n",
       "      <td>2.89</td>\n",
       "      <td>4460</td>\n",
       "    </tr>\n",
       "    <tr>\n",
       "      <th>3</th>\n",
       "      <td>119.0</td>\n",
       "      <td>2199.19</td>\n",
       "      <td>100.6050</td>\n",
       "      <td>1514.370</td>\n",
       "      <td>5900</td>\n",
       "      <td>22.40</td>\n",
       "      <td>60.1</td>\n",
       "      <td>6.16</td>\n",
       "      <td>3530</td>\n",
       "    </tr>\n",
       "    <tr>\n",
       "      <th>4</th>\n",
       "      <td>10.3</td>\n",
       "      <td>5551.00</td>\n",
       "      <td>735.6600</td>\n",
       "      <td>7185.800</td>\n",
       "      <td>19100</td>\n",
       "      <td>1.44</td>\n",
       "      <td>76.8</td>\n",
       "      <td>2.13</td>\n",
       "      <td>12200</td>\n",
       "    </tr>\n",
       "  </tbody>\n",
       "</table>\n",
       "</div>"
      ],
      "text/plain": [
       "   child_mort  exports    health   imports  income  inflation  life_expec  \\\n",
       "0        90.2    55.30   41.9174   248.297    1610       9.44        56.2   \n",
       "1        16.6  1145.20  267.8950  1987.740    9930       4.49        76.3   \n",
       "2        27.3  1712.64  185.9820  1400.440   12900      16.10        76.5   \n",
       "3       119.0  2199.19  100.6050  1514.370    5900      22.40        60.1   \n",
       "4        10.3  5551.00  735.6600  7185.800   19100       1.44        76.8   \n",
       "\n",
       "   total_fer   gdpp  \n",
       "0       5.82    553  \n",
       "1       1.65   4090  \n",
       "2       2.89   4460  \n",
       "3       6.16   3530  \n",
       "4       2.13  12200  "
      ]
     },
     "execution_count": 7,
     "metadata": {},
     "output_type": "execute_result"
    }
   ],
   "source": [
    "#Droping country column for model building \n",
    "\n",
    "cnt_num=cnt.drop('country',axis=1)\n",
    "cnt_num.head()"
   ]
  },
  {
   "cell_type": "code",
   "execution_count": 8,
   "metadata": {},
   "outputs": [
    {
     "data": {
      "text/plain": [
       "(167, 9)"
      ]
     },
     "execution_count": 8,
     "metadata": {},
     "output_type": "execute_result"
    }
   ],
   "source": [
    "cnt_num.shape"
   ]
  },
  {
   "cell_type": "markdown",
   "metadata": {},
   "source": [
    "# Principal Component Analysis[PCA]"
   ]
  },
  {
   "cell_type": "markdown",
   "metadata": {},
   "source": [
    "### Standardising "
   ]
  },
  {
   "cell_type": "code",
   "execution_count": 9,
   "metadata": {},
   "outputs": [],
   "source": [
    "from sklearn.preprocessing import StandardScaler\n",
    "scaler= StandardScaler()\n",
    "scaled_cnt=scaler.fit_transform(cnt_num)"
   ]
  },
  {
   "cell_type": "code",
   "execution_count": 10,
   "metadata": {},
   "outputs": [
    {
     "data": {
      "text/plain": [
       "PCA(random_state=42, svd_solver='randomized')"
      ]
     },
     "execution_count": 10,
     "metadata": {},
     "output_type": "execute_result"
    }
   ],
   "source": [
    "#Principal Component Analysis for dimensionality reduction\n",
    "\n",
    "from sklearn.decomposition import PCA\n",
    "pca=PCA(svd_solver='randomized',random_state=42)\n",
    "pca.fit(scaled_cnt)"
   ]
  },
  {
   "cell_type": "code",
   "execution_count": 11,
   "metadata": {},
   "outputs": [
    {
     "data": {
      "text/plain": [
       "array([[-0.31639186,  0.34288671,  0.358535  ,  0.34486492,  0.38004113,\n",
       "        -0.14308531,  0.34385651, -0.30284224,  0.39998795],\n",
       "       [ 0.47626735,  0.39731091,  0.1550529 ,  0.37078075,  0.12838448,\n",
       "         0.22126089, -0.36981973,  0.4597152 ,  0.2006241 ],\n",
       "       [-0.15001225, -0.03057367, -0.07570322, -0.07217386,  0.14576421,\n",
       "         0.94841868,  0.19675173, -0.07783431,  0.01033941],\n",
       "       [-0.14805195,  0.44942527, -0.59971228,  0.46179779, -0.15480592,\n",
       "        -0.00762798, -0.01839465, -0.21392805, -0.36477239],\n",
       "       [ 0.1019948 , -0.03853829, -0.49319984, -0.2527867 ,  0.79407469,\n",
       "        -0.13642345, -0.15404105, -0.02033568,  0.08750149],\n",
       "       [ 0.19658519, -0.03891112,  0.18069888, -0.01217988, -0.03814681,\n",
       "         0.10840284, -0.58600986, -0.75390075,  0.04538167],\n",
       "       [ 0.76126725, -0.01366973, -0.06461567,  0.02718244, -0.02311312,\n",
       "        -0.02207663,  0.58120846, -0.27314534, -0.04402264],\n",
       "       [ 0.00644411, -0.05526371,  0.43007213,  0.1311355 ,  0.3938113 ,\n",
       "        -0.00607016,  0.002966  ,  0.03429334, -0.79902242],\n",
       "       [-0.00495137, -0.71792388, -0.13034593,  0.66568664,  0.07901102,\n",
       "         0.01128137, -0.03159406,  0.02368185,  0.12846398]])"
      ]
     },
     "execution_count": 11,
     "metadata": {},
     "output_type": "execute_result"
    }
   ],
   "source": [
    "pca.components_"
   ]
  },
  {
   "cell_type": "code",
   "execution_count": 12,
   "metadata": {},
   "outputs": [
    {
     "data": {
      "text/plain": [
       "array([5.89372984e-01, 1.84451685e-01, 9.91147170e-02, 6.07227801e-02,\n",
       "       3.02917253e-02, 2.45982702e-02, 9.39743701e-03, 1.55641971e-03,\n",
       "       4.93981394e-04])"
      ]
     },
     "execution_count": 12,
     "metadata": {},
     "output_type": "execute_result"
    }
   ],
   "source": [
    "#explained_variance_ratio\n",
    "\n",
    "pca.explained_variance_ratio_"
   ]
  },
  {
   "cell_type": "code",
   "execution_count": 13,
   "metadata": {},
   "outputs": [
    {
     "data": {
      "image/png": "[encoded data removed]",
      "text/plain": [
       "<Figure size 432x288 with 1 Axes>"
      ]
     },
     "metadata": {
      "needs_background": "light"
     },
     "output_type": "display_data"
    }
   ],
   "source": [
    "#plot for explained_variance_ratio \n",
    "\n",
    "plt.plot(np.cumsum(pca.explained_variance_ratio_))\n",
    "plt.show()"
   ]
  },
  {
   "cell_type": "markdown",
   "metadata": {},
   "source": [
    "selected n_components=3"
   ]
  },
  {
   "cell_type": "code",
   "execution_count": 14,
   "metadata": {},
   "outputs": [],
   "source": [
    "#training the model\n",
    "\n",
    "from sklearn.decomposition import IncrementalPCA\n",
    "pca_final=PCA(n_components=3)\n",
    "cnt_train_pca= pca_final.fit_transform(scaled_cnt)"
   ]
  },
  {
   "cell_type": "code",
   "execution_count": 15,
   "metadata": {},
   "outputs": [
    {
     "data": {
      "text/plain": [
       "(167, 3)"
      ]
     },
     "execution_count": 15,
     "metadata": {},
     "output_type": "execute_result"
    }
   ],
   "source": [
    "cnt_train_pca.shape"
   ]
  },
  {
   "cell_type": "code",
   "execution_count": 16,
   "metadata": {},
   "outputs": [
    {
     "data": {
      "text/plain": [
       "array([[-2.63557499e+00, -2.42055643e-02, -4.59557398e-01,\n",
       "        -2.72263028e+00,  6.48597043e-01,  3.54221548e-02,\n",
       "        -3.34554724e-01,  3.18152480e+00,  3.81685715e+00,\n",
       "        -4.67994708e-01,  1.49896170e+00,  1.47088772e+00,\n",
       "        -1.01516655e+00,  8.44165717e-01, -1.50192243e-02,\n",
       "         3.96165209e+00, -4.03885263e-01, -2.36396201e+00,\n",
       "        -7.16047998e-01, -1.01877707e+00,  2.50743177e-01,\n",
       "        -1.12948907e+00,  1.65169993e-01,  2.69707911e+00,\n",
       "         2.79292646e-01, -2.75148004e+00, -2.76243995e+00,\n",
       "        -1.17965396e+00, -2.43892330e+00,  3.39523415e+00,\n",
       "        -5.24475038e-01, -3.23694559e+00, -3.18539522e+00,\n",
       "         6.90650603e-01, -1.30696482e-01, -1.55448767e-02,\n",
       "        -1.94913029e+00, -3.11493019e+00, -2.04734314e+00,\n",
       "         4.29282147e-01, -2.57219502e+00,  8.45147825e-01,\n",
       "         2.31333607e+00,  1.67399330e+00,  4.37790595e+00,\n",
       "        -3.68925556e-01, -3.04457221e-01, -8.37748859e-01,\n",
       "        -3.38219520e-01, -1.05254165e+00, -1.94833895e+00,\n",
       "         1.06447757e+00, -7.63106127e-01,  3.20241269e+00,\n",
       "         2.89285141e+00, -1.28184055e+00, -2.10464223e+00,\n",
       "        -3.62336465e-01,  3.30027208e+00, -2.00196070e+00,\n",
       "         1.92999863e+00, -8.65007535e-02, -8.58551384e-01,\n",
       "        -2.71258535e+00, -2.60815857e+00, -9.32672831e-01,\n",
       "        -3.93728680e+00,  1.05103008e+00,  3.10065404e+00,\n",
       "        -1.26543967e+00, -8.43317538e-01, -7.99841865e-02,\n",
       "        -1.19798975e+00,  4.66214804e+00,  1.78284783e+00,\n",
       "         2.55317720e+00, -2.94455583e-01,  2.85922558e+00,\n",
       "        -5.23225161e-01, -3.57424100e-01, -1.73691803e+00,\n",
       "        -1.66683548e+00,  2.78198859e+00, -1.09186855e+00,\n",
       "        -1.63736836e+00,  6.65496619e-01,  6.45536091e-01,\n",
       "        -2.43305355e+00, -2.25786536e+00,  4.91227645e-01,\n",
       "         7.77007132e-01,  1.26480651e+01,  8.24035367e-02,\n",
       "        -1.99665317e+00, -2.70892384e+00,  4.25837137e-01,\n",
       "         2.29429420e-01, -2.94425974e+00,  2.63472107e+00,\n",
       "        -2.11455962e+00,  3.10285368e-01, -1.11581663e+00,\n",
       "        -5.13006354e-01, -1.27030298e+00,  3.54242045e-01,\n",
       "        -5.47964283e-01, -2.73032571e+00, -1.26477478e+00,\n",
       "        -1.33464243e+00, -1.25368246e+00,  4.49577158e+00,\n",
       "         2.20705185e+00, -3.06079369e+00, -3.93180213e+00,\n",
       "         5.84610577e+00,  1.05142899e+00, -1.86196902e+00,\n",
       "         3.01549732e-01, -4.89240137e-01, -1.81888443e-01,\n",
       "        -9.29805425e-01,  8.53679884e-01,  1.75885475e+00,\n",
       "         5.12946057e+00,  2.82365196e-01,  1.40944928e-01,\n",
       "        -1.74803919e+00, -8.49394828e-01,  9.11282182e-01,\n",
       "        -1.86207647e+00,  1.84696646e-01,  6.67587145e-01,\n",
       "        -3.22370601e+00,  6.59040654e+00,  1.40976698e+00,\n",
       "         2.04098226e+00, -1.51784027e+00, -1.17790684e+00,\n",
       "         1.75540302e+00,  2.24318510e+00, -5.46845044e-01,\n",
       "        -2.26517316e-01, -2.01691709e+00, -1.98348544e-01,\n",
       "         3.80717043e+00,  6.26595369e+00, -1.37674869e+00,\n",
       "        -2.27729323e+00,  1.73177556e-01, -2.00766911e+00,\n",
       "        -2.24346220e+00, -8.58313068e-01, -6.30371370e-02,\n",
       "         3.27281019e-01, -8.95220356e-01, -2.62095486e+00,\n",
       "        -3.73434523e-01,  2.69012513e+00,  2.60556271e+00,\n",
       "         3.78261235e+00,  4.54813608e-01, -1.03192166e+00,\n",
       "        -1.17520983e+00, -3.14227675e-01, -5.94449148e-01,\n",
       "        -1.80237235e+00, -2.64450479e+00],\n",
       "       [ 1.47226739e+00, -1.42989187e+00, -6.75495376e-01,\n",
       "         2.17233183e+00, -1.02343678e+00, -6.85250630e-01,\n",
       "        -1.27188941e+00, -2.62484651e-01,  2.48363332e-01,\n",
       "        -4.92682084e-01, -4.29631893e-01, -3.28925266e-01,\n",
       "        -7.08742781e-01, -1.00787689e+00, -9.80609054e-01,\n",
       "         8.34321401e-01, -9.18069589e-01,  1.17169579e+00,\n",
       "        -7.65606639e-01, -4.24925733e-01, -1.69421994e+00,\n",
       "         4.01611373e-01, -1.01949481e+00,  3.58556296e-01,\n",
       "        -1.31818214e+00,  1.66499146e+00,  1.62878968e+00,\n",
       "        -4.88714451e-01,  1.28827830e+00, -8.68827192e-02,\n",
       "        -9.74434193e-01,  2.17841439e+00,  2.35407259e+00,\n",
       "        -1.11659501e+00, -1.36016399e+00, -1.29141297e+00,\n",
       "         6.06917429e-01,  2.17074741e+00,  1.08917664e+00,\n",
       "        -1.37386581e+00,  1.49796260e+00, -1.26337333e+00,\n",
       "        -5.52303109e-01, -8.67533462e-01,  9.09112122e-01,\n",
       "        -8.12288570e-01, -9.72660968e-01, -5.28442340e-01,\n",
       "        -1.21463908e+00,  2.69233369e+00,  4.96371195e-01,\n",
       "        -9.22528162e-01, -5.76808058e-01, -1.19279115e-02,\n",
       "        -3.16990447e-01,  8.50424961e-01,  8.26787986e-01,\n",
       "        -1.16187708e+00, -1.71369838e-01,  7.53168142e-01,\n",
       "        -1.02643572e+00, -1.03594778e+00, -5.33290940e-01,\n",
       "         1.61480277e+00,  1.40687165e+00, -4.28122673e-01,\n",
       "         3.03699771e+00, -9.90947560e-01,  1.58567898e-01,\n",
       "        -2.70127741e-01, -5.63552960e-01, -9.72943663e-01,\n",
       "         3.65721870e-01,  1.40558414e+00, -4.04330461e-01,\n",
       "        -7.84234567e-01, -1.06990218e+00, -8.89814282e-01,\n",
       "        -6.37996501e-01, -2.22988049e-01,  2.85212482e-01,\n",
       "         2.38468556e-01,  4.01239091e-01, -5.42005344e-01,\n",
       "         2.41846951e-01, -1.20689529e+00, -1.49686690e+00,\n",
       "         1.16286280e+00,  9.35413861e-01, -5.20348560e-01,\n",
       "        -1.00173717e+00,  8.27668274e+00, -1.46313682e+00,\n",
       "         5.57492360e-01,  1.49858043e+00, -8.44767425e-01,\n",
       "        -1.17761464e+00,  2.01010343e+00,  9.04762983e-02,\n",
       "         1.04381716e+00, -1.18071016e+00, -2.09029932e-01,\n",
       "        -1.22748023e+00,  8.26249586e-02, -1.40419702e+00,\n",
       "        -9.75674052e-01,  1.54660755e+00, -3.55018001e-01,\n",
       "         4.17998055e-01, -4.01790190e-01,  9.84054246e-01,\n",
       "        -4.67990843e-01,  2.10524192e+00,  3.82122972e+00,\n",
       "         1.63144685e+00, -3.28224435e-02,  5.68078594e-01,\n",
       "        -8.76963633e-01, -9.14502654e-01, -1.16130249e+00,\n",
       "        -5.96353563e-01, -1.28674301e+00, -1.09199436e+00,\n",
       "         1.42744763e+00, -1.24117632e+00, -7.97394973e-01,\n",
       "         2.62547773e-01, -4.89394070e-01,  2.52263683e-02,\n",
       "         4.97110432e-01, -1.42895336e+00, -7.63248241e-01,\n",
       "         2.31724049e+00,  2.95091857e+00, -7.87474591e-01,\n",
       "        -7.27046919e-01,  1.90294469e-02,  3.55393955e-01,\n",
       "        -1.02421806e+00, -1.01272415e+00, -9.46267367e-01,\n",
       "        -9.82627102e-01,  8.49868987e-01, -5.65520252e-01,\n",
       "         3.70610765e-01,  1.83761560e+00, -1.62309753e-01,\n",
       "         1.00886165e+00, -1.39566409e+00,  1.08624870e+00,\n",
       "         9.06539870e-01, -5.40460446e-01, -1.27891493e+00,\n",
       "        -1.06698881e+00, -1.88336411e-01,  1.46319152e+00,\n",
       "        -1.15473080e+00,  5.37469208e-01, -3.82105821e-01,\n",
       "         1.02159350e-01, -1.09888913e+00, -5.61377580e-01,\n",
       "        -2.75652449e-01, -1.62661527e-02, -1.07633467e+00,\n",
       "         5.88729402e-01,  1.57195347e+00],\n",
       "       [-5.49488868e-01, -1.41232909e-02,  9.59354680e-01,\n",
       "         6.00214575e-01, -2.57430041e-01,  1.46869733e+00,\n",
       "         1.90564198e-01, -1.30870333e-01, -2.58960168e-01,\n",
       "         6.09900309e-01, -5.44543230e-01,  3.97297753e-01,\n",
       "        -1.01816918e-01, -4.10556340e-01,  8.92414484e-01,\n",
       "        -2.71693005e-01, -5.05679300e-01, -1.24719221e+00,\n",
       "        -1.25974754e-01,  5.45654355e-02, -2.41191325e-01,\n",
       "        -2.31994129e-01,  2.82993465e-01,  1.56053404e+00,\n",
       "        -3.23981905e-01, -8.48207029e-01, -2.99329159e-01,\n",
       "        -5.70850862e-01, -1.22610432e+00, -4.76067492e-02,\n",
       "        -5.72726101e-01, -1.60297337e+00, -1.07861331e+00,\n",
       "         4.96266814e-01,  1.78480939e-01, -9.01849923e-02,\n",
       "        -7.74797992e-01,  3.61476789e-01,  7.17277025e-01,\n",
       "         2.66186537e-01, -9.55701246e-01, -2.70379863e-01,\n",
       "        -6.81618962e-02, -4.41890571e-01, -1.63313042e-01,\n",
       "        -7.44166771e-02,  1.72600500e-01,  2.48168057e-01,\n",
       "        -2.84677813e-01,  1.04885218e+00, -3.96099752e-02,\n",
       "        -2.06075780e-01, -3.81540517e-01, -2.81535158e-01,\n",
       "        -2.13985357e-01,  5.14766836e-01, -7.62353878e-01,\n",
       "         2.36083836e-01, -2.41391300e-01,  3.73760514e-01,\n",
       "        -1.99775501e-01, -5.13430302e-01, -2.42515215e-01,\n",
       "         4.13006322e-02, -1.19576881e+00, -3.02087119e-01,\n",
       "        -1.75633450e+00, -1.74405995e-01,  1.94322279e-01,\n",
       "        -6.56326672e-02,  7.14512819e-01,  1.01368171e+00,\n",
       "         6.65671842e-01, -7.53321105e-01, -1.51147952e-01,\n",
       "        -1.79760863e-01,  3.82026811e-01, -3.58615661e-01,\n",
       "         2.00211076e-01,  1.16045587e+00, -8.79187798e-01,\n",
       "        -9.66425345e-01,  1.01805033e+00,  1.45822765e-01,\n",
       "        -2.06802633e-01, -4.96704627e-01, -2.77408990e-01,\n",
       "        -1.14908237e+00, -7.67233930e-01,  9.34396274e-01,\n",
       "        -2.02331046e-01, -6.19787118e-01, -2.48426235e-01,\n",
       "        -3.38897940e-01, -3.57331893e-01,  2.51420799e-01,\n",
       "        -1.62870250e-01, -1.14261016e+00, -5.31811536e-02,\n",
       "         5.94104821e-01, -3.51943021e-01, -5.56048328e-01,\n",
       "         4.12175150e-01,  2.78864735e+00, -2.36723564e-01,\n",
       "        -5.21397028e-01, -7.80421341e-01, -2.39634014e-01,\n",
       "        -7.60210134e-01,  5.58599207e-01, -3.58893049e-01,\n",
       "         3.36529295e-02, -1.32512759e+00,  7.92893854e+00,\n",
       "         1.90195271e-01,  1.15163905e+00, -1.00254523e-01,\n",
       "        -2.14970404e-01, -1.84278666e-02,  7.62411845e-02,\n",
       "        -3.54625852e-01, -1.73355255e-01, -2.14655943e-01,\n",
       "         1.01013597e+00, -9.06816163e-02,  8.18184300e-01,\n",
       "        -8.13252587e-01, -5.49048433e-01,  1.25689916e+00,\n",
       "        -9.30076017e-01,  1.27207478e-01, -8.63939857e-01,\n",
       "        -1.09185949e-01, -3.20266712e-01, -3.45883427e-01,\n",
       "        -3.96487279e-01, -3.57048722e-01, -5.22091645e-01,\n",
       "         7.38417788e-02, -1.85366575e-01,  1.58702414e+00,\n",
       "        -1.67814327e-01,  6.99050999e-01,  3.39126570e-02,\n",
       "        -2.36551722e-01, -4.37099545e-01,  2.86193936e-01,\n",
       "        -4.05609099e-01, -1.14718018e-02,  1.38595760e+00,\n",
       "        -1.19199425e+00, -3.82256854e-01, -8.84066638e-02,\n",
       "         2.60124606e-01, -6.23819283e-01, -4.15173064e-01,\n",
       "         6.72758509e-01,  9.21753803e-01, -1.53314204e-01,\n",
       "        -3.00494418e-01,  4.58285551e-02,  7.63442136e-01,\n",
       "        -6.67130637e-01,  3.68027298e+00,  5.28874919e-01,\n",
       "         1.18085099e+00, -1.74684997e-01]])"
      ]
     },
     "execution_count": 16,
     "metadata": {},
     "output_type": "execute_result"
    }
   ],
   "source": [
    "# Transpose the train set data \n",
    "\n",
    "PC= np.transpose(cnt_train_pca)\n",
    "PC"
   ]
  },
  {
   "cell_type": "code",
   "execution_count": 17,
   "metadata": {},
   "outputs": [
    {
     "data": {
      "text/plain": [
       "(3, 167)"
      ]
     },
     "execution_count": 17,
     "metadata": {},
     "output_type": "execute_result"
    }
   ],
   "source": [
    "PC.shape"
   ]
  },
  {
   "cell_type": "code",
   "execution_count": 18,
   "metadata": {},
   "outputs": [
    {
     "data": {
      "text/plain": [
       "['Afghanistan',\n",
       " 'Albania',\n",
       " 'Algeria',\n",
       " 'Angola',\n",
       " 'Antigua and Barbuda',\n",
       " 'Argentina',\n",
       " 'Armenia',\n",
       " 'Australia',\n",
       " 'Austria',\n",
       " 'Azerbaijan',\n",
       " 'Bahamas',\n",
       " 'Bahrain',\n",
       " 'Bangladesh',\n",
       " 'Barbados',\n",
       " 'Belarus',\n",
       " 'Belgium',\n",
       " 'Belize',\n",
       " 'Benin',\n",
       " 'Bhutan',\n",
       " 'Bolivia',\n",
       " 'Bosnia and Herzegovina',\n",
       " 'Botswana',\n",
       " 'Brazil',\n",
       " 'Brunei',\n",
       " 'Bulgaria',\n",
       " 'Burkina Faso',\n",
       " 'Burundi',\n",
       " 'Cambodia',\n",
       " 'Cameroon',\n",
       " 'Canada',\n",
       " 'Cape Verde',\n",
       " 'Central African Republic',\n",
       " 'Chad',\n",
       " 'Chile',\n",
       " 'China',\n",
       " 'Colombia',\n",
       " 'Comoros',\n",
       " 'Congo, Dem. Rep.',\n",
       " 'Congo, Rep.',\n",
       " 'Costa Rica',\n",
       " \"Cote d'Ivoire\",\n",
       " 'Croatia',\n",
       " 'Cyprus',\n",
       " 'Czech Republic',\n",
       " 'Denmark',\n",
       " 'Dominican Republic',\n",
       " 'Ecuador',\n",
       " 'Egypt',\n",
       " 'El Salvador',\n",
       " 'Equatorial Guinea',\n",
       " 'Eritrea',\n",
       " 'Estonia',\n",
       " 'Fiji',\n",
       " 'Finland',\n",
       " 'France',\n",
       " 'Gabon',\n",
       " 'Gambia',\n",
       " 'Georgia',\n",
       " 'Germany',\n",
       " 'Ghana',\n",
       " 'Greece',\n",
       " 'Grenada',\n",
       " 'Guatemala',\n",
       " 'Guinea',\n",
       " 'Guinea-Bissau',\n",
       " 'Guyana',\n",
       " 'Haiti',\n",
       " 'Hungary',\n",
       " 'Iceland',\n",
       " 'India',\n",
       " 'Indonesia',\n",
       " 'Iran',\n",
       " 'Iraq',\n",
       " 'Ireland',\n",
       " 'Israel',\n",
       " 'Italy',\n",
       " 'Jamaica',\n",
       " 'Japan',\n",
       " 'Jordan',\n",
       " 'Kazakhstan',\n",
       " 'Kenya',\n",
       " 'Kiribati',\n",
       " 'Kuwait',\n",
       " 'Kyrgyz Republic',\n",
       " 'Lao',\n",
       " 'Latvia',\n",
       " 'Lebanon',\n",
       " 'Lesotho',\n",
       " 'Liberia',\n",
       " 'Libya',\n",
       " 'Lithuania',\n",
       " 'Luxembourg',\n",
       " 'Macedonia, FYR',\n",
       " 'Madagascar',\n",
       " 'Malawi',\n",
       " 'Malaysia',\n",
       " 'Maldives',\n",
       " 'Mali',\n",
       " 'Malta',\n",
       " 'Mauritania',\n",
       " 'Mauritius',\n",
       " 'Micronesia, Fed. Sts.',\n",
       " 'Moldova',\n",
       " 'Mongolia',\n",
       " 'Montenegro',\n",
       " 'Morocco',\n",
       " 'Mozambique',\n",
       " 'Myanmar',\n",
       " 'Namibia',\n",
       " 'Nepal',\n",
       " 'Netherlands',\n",
       " 'New Zealand',\n",
       " 'Niger',\n",
       " 'Nigeria',\n",
       " 'Norway',\n",
       " 'Oman',\n",
       " 'Pakistan',\n",
       " 'Panama',\n",
       " 'Paraguay',\n",
       " 'Peru',\n",
       " 'Philippines',\n",
       " 'Poland',\n",
       " 'Portugal',\n",
       " 'Qatar',\n",
       " 'Romania',\n",
       " 'Russia',\n",
       " 'Rwanda',\n",
       " 'Samoa',\n",
       " 'Saudi Arabia',\n",
       " 'Senegal',\n",
       " 'Serbia',\n",
       " 'Seychelles',\n",
       " 'Sierra Leone',\n",
       " 'Singapore',\n",
       " 'Slovak Republic',\n",
       " 'Slovenia',\n",
       " 'Solomon Islands',\n",
       " 'South Africa',\n",
       " 'South Korea',\n",
       " 'Spain',\n",
       " 'Sri Lanka',\n",
       " 'St. Vincent and the Grenadines',\n",
       " 'Sudan',\n",
       " 'Suriname',\n",
       " 'Sweden',\n",
       " 'Switzerland',\n",
       " 'Tajikistan',\n",
       " 'Tanzania',\n",
       " 'Thailand',\n",
       " 'Timor-Leste',\n",
       " 'Togo',\n",
       " 'Tonga',\n",
       " 'Tunisia',\n",
       " 'Turkey',\n",
       " 'Turkmenistan',\n",
       " 'Uganda',\n",
       " 'Ukraine',\n",
       " 'United Arab Emirates',\n",
       " 'United Kingdom',\n",
       " 'United States',\n",
       " 'Uruguay',\n",
       " 'Uzbekistan',\n",
       " 'Vanuatu',\n",
       " 'Venezuela',\n",
       " 'Vietnam',\n",
       " 'Yemen',\n",
       " 'Zambia']"
      ]
     },
     "execution_count": 18,
     "metadata": {},
     "output_type": "execute_result"
    }
   ],
   "source": [
    "#listing the country names\n",
    "\n",
    "country_names = list( cnt['country'])\n",
    "country_names"
   ]
  },
  {
   "cell_type": "code",
   "execution_count": 19,
   "metadata": {},
   "outputs": [
    {
     "data": {
      "text/html": [
       "<div>\n",
       "<style scoped>\n",
       "    .dataframe tbody tr th:only-of-type {\n",
       "        vertical-align: middle;\n",
       "    }\n",
       "\n",
       "    .dataframe tbody tr th {\n",
       "        vertical-align: top;\n",
       "    }\n",
       "\n",
       "    .dataframe thead th {\n",
       "        text-align: right;\n",
       "    }\n",
       "</style>\n",
       "<table border=\"1\" class=\"dataframe\">\n",
       "  <thead>\n",
       "    <tr style=\"text-align: right;\">\n",
       "      <th></th>\n",
       "      <th>country</th>\n",
       "      <th>PC1</th>\n",
       "      <th>PC2</th>\n",
       "      <th>PC3</th>\n",
       "    </tr>\n",
       "  </thead>\n",
       "  <tbody>\n",
       "    <tr>\n",
       "      <th>0</th>\n",
       "      <td>Afghanistan</td>\n",
       "      <td>-2.635575</td>\n",
       "      <td>1.472267</td>\n",
       "      <td>-0.549489</td>\n",
       "    </tr>\n",
       "    <tr>\n",
       "      <th>1</th>\n",
       "      <td>Albania</td>\n",
       "      <td>-0.024206</td>\n",
       "      <td>-1.429892</td>\n",
       "      <td>-0.014123</td>\n",
       "    </tr>\n",
       "    <tr>\n",
       "      <th>2</th>\n",
       "      <td>Algeria</td>\n",
       "      <td>-0.459557</td>\n",
       "      <td>-0.675495</td>\n",
       "      <td>0.959355</td>\n",
       "    </tr>\n",
       "    <tr>\n",
       "      <th>3</th>\n",
       "      <td>Angola</td>\n",
       "      <td>-2.722630</td>\n",
       "      <td>2.172332</td>\n",
       "      <td>0.600215</td>\n",
       "    </tr>\n",
       "    <tr>\n",
       "      <th>4</th>\n",
       "      <td>Antigua and Barbuda</td>\n",
       "      <td>0.648597</td>\n",
       "      <td>-1.023437</td>\n",
       "      <td>-0.257430</td>\n",
       "    </tr>\n",
       "  </tbody>\n",
       "</table>\n",
       "</div>"
      ],
      "text/plain": [
       "               country       PC1       PC2       PC3\n",
       "0          Afghanistan -2.635575  1.472267 -0.549489\n",
       "1              Albania -0.024206 -1.429892 -0.014123\n",
       "2              Algeria -0.459557 -0.675495  0.959355\n",
       "3               Angola -2.722630  2.172332  0.600215\n",
       "4  Antigua and Barbuda  0.648597 -1.023437 -0.257430"
      ]
     },
     "execution_count": 19,
     "metadata": {},
     "output_type": "execute_result"
    }
   ],
   "source": [
    "#create dataframe \n",
    "\n",
    "pc_cnt= pd.DataFrame({'country': country_names, 'PC1': PC[0], 'PC2': PC[1], 'PC3':PC[2]})\n",
    "pc_cnt.head()"
   ]
  },
  {
   "cell_type": "markdown",
   "metadata": {},
   "source": [
    "## Outlier Analysis"
   ]
  },
  {
   "cell_type": "code",
   "execution_count": 20,
   "metadata": {},
   "outputs": [
    {
     "data": {
      "image/png": "[encoded data removed]",
      "text/plain": [
       "<Figure size 432x288 with 1 Axes>"
      ]
     },
     "metadata": {
      "needs_background": "light"
     },
     "output_type": "display_data"
    },
    {
     "data": {
      "image/png": "[encoded data removed]",
      "text/plain": [
       "<Figure size 432x288 with 1 Axes>"
      ]
     },
     "metadata": {
      "needs_background": "light"
     },
     "output_type": "display_data"
    },
    {
     "data": {
      "image/png": "[encoded data removed]",
      "text/plain": [
       "<Figure size 432x288 with 1 Axes>"
      ]
     },
     "metadata": {
      "needs_background": "light"
     },
     "output_type": "display_data"
    }
   ],
   "source": [
    "# box plot to check outliers for PC1, PC2, PC3\n",
    "plt.subplots(0,0)\n",
    "plt.boxplot(pc_cnt['PC1'])\n",
    "\n",
    "plt.subplots(0,1)\n",
    "plt.boxplot(pc_cnt['PC2'])\n",
    "\n",
    "plt.subplots(0,2)\n",
    "plt.boxplot(pc_cnt['PC3'])\n",
    "\n",
    "plt.tight_layout()\n",
    "plt.show()"
   ]
  },
  {
   "cell_type": "code",
   "execution_count": 21,
   "metadata": {},
   "outputs": [
    {
     "data": {
      "text/plain": [
       "{'whiskers': [<matplotlib.lines.Line2D at 0xea75250>,\n",
       "  <matplotlib.lines.Line2D at 0xea75400>],\n",
       " 'caps': [<matplotlib.lines.Line2D at 0xea755b0>,\n",
       "  <matplotlib.lines.Line2D at 0xea75760>],\n",
       " 'boxes': [<matplotlib.lines.Line2D at 0xea750a0>],\n",
       " 'medians': [<matplotlib.lines.Line2D at 0xea75910>],\n",
       " 'fliers': [<matplotlib.lines.Line2D at 0xea75a90>],\n",
       " 'means': []}"
      ]
     },
     "execution_count": 21,
     "metadata": {},
     "output_type": "execute_result"
    },
    {
     "data": {
      "image/png": "[encoded data removed]",
      "text/plain": [
       "<Figure size 432x288 with 1 Axes>"
      ]
     },
     "metadata": {
      "needs_background": "light"
     },
     "output_type": "display_data"
    }
   ],
   "source": [
    "#there are many outliers for PC1\n",
    "#to remove outliers PC1\n",
    "\n",
    "Q1= pc_cnt.PC1.quantile(0.05)\n",
    "Q3= pc_cnt.PC1.quantile(0.95)\n",
    "IQR= Q3-Q1\n",
    "pc_cnt=pc_cnt[(pc_cnt.PC1 >=Q1)&(pc_cnt.PC1 <=Q3)]\n",
    "plt.boxplot(pc_cnt.PC1)"
   ]
  },
  {
   "cell_type": "code",
   "execution_count": 22,
   "metadata": {},
   "outputs": [
    {
     "data": {
      "text/plain": [
       "{'whiskers': [<matplotlib.lines.Line2D at 0xeaa6958>,\n",
       "  <matplotlib.lines.Line2D at 0xeaa6b08>],\n",
       " 'caps': [<matplotlib.lines.Line2D at 0xeaa6cb8>,\n",
       "  <matplotlib.lines.Line2D at 0xeaa6e68>],\n",
       " 'boxes': [<matplotlib.lines.Line2D at 0xeaa67a8>],\n",
       " 'medians': [<matplotlib.lines.Line2D at 0xeab2040>],\n",
       " 'fliers': [<matplotlib.lines.Line2D at 0xeab21c0>],\n",
       " 'means': []}"
      ]
     },
     "execution_count": 22,
     "metadata": {},
     "output_type": "execute_result"
    },
    {
     "data": {
      "image/png": "[encoded data removed]",
      "text/plain": [
       "<Figure size 432x288 with 1 Axes>"
      ]
     },
     "metadata": {
      "needs_background": "light"
     },
     "output_type": "display_data"
    }
   ],
   "source": [
    "#there are many outliers for PC2\n",
    "#to remove outliers PC2\n",
    "\n",
    "Q1= pc_cnt.PC2.quantile(0.05)\n",
    "Q3= pc_cnt.PC2.quantile(0.95)\n",
    "IQR= Q3-Q1\n",
    "pc_cnt=pc_cnt[(pc_cnt.PC2 >=Q1)&(pc_cnt.PC2 <=Q3)]\n",
    "plt.boxplot(pc_cnt.PC2)"
   ]
  },
  {
   "cell_type": "code",
   "execution_count": 23,
   "metadata": {},
   "outputs": [
    {
     "data": {
      "text/plain": [
       "{'whiskers': [<matplotlib.lines.Line2D at 0xeae0430>,\n",
       "  <matplotlib.lines.Line2D at 0xeae05e0>],\n",
       " 'caps': [<matplotlib.lines.Line2D at 0xeae0790>,\n",
       "  <matplotlib.lines.Line2D at 0xeae0940>],\n",
       " 'boxes': [<matplotlib.lines.Line2D at 0xeae0280>],\n",
       " 'medians': [<matplotlib.lines.Line2D at 0xeae0af0>],\n",
       " 'fliers': [<matplotlib.lines.Line2D at 0xeae0c70>],\n",
       " 'means': []}"
      ]
     },
     "execution_count": 23,
     "metadata": {},
     "output_type": "execute_result"
    },
    {
     "data": {
      "image/png": "[encoded data removed]",
      "text/plain": [
       "<Figure size 432x288 with 1 Axes>"
      ]
     },
     "metadata": {
      "needs_background": "light"
     },
     "output_type": "display_data"
    }
   ],
   "source": [
    "#there are many outliers for PC3\n",
    "#to remove outliers PC3\n",
    "\n",
    "Q1= pc_cnt.PC3.quantile(0.05)\n",
    "Q3= pc_cnt.PC3.quantile(0.95)\n",
    "IQR= Q3-Q1\n",
    "pc_cnt=pc_cnt[(pc_cnt.PC3 >=Q1)&(pc_cnt.PC3 <=Q3)]\n",
    "plt.boxplot(pc_cnt.PC3)"
   ]
  },
  {
   "cell_type": "code",
   "execution_count": 56,
   "metadata": {},
   "outputs": [
    {
     "data": {
      "text/plain": [
       "(119, 4)"
      ]
     },
     "execution_count": 56,
     "metadata": {},
     "output_type": "execute_result"
    }
   ],
   "source": [
    "pc_cnt.shape"
   ]
  },
  {
   "cell_type": "code",
   "execution_count": 57,
   "metadata": {},
   "outputs": [],
   "source": [
    "pc_cnt_1=pc_cnt\n",
    "pc_cnt_scaled=scaler.fit_transform(pc_cnt_1.drop('country',axis=1))"
   ]
  },
  {
   "cell_type": "code",
   "execution_count": 58,
   "metadata": {},
   "outputs": [
    {
     "data": {
      "text/plain": [
       "array([[-1.69417921e+00,  2.76491950e+00, -1.07642997e+00],\n",
       "       [-3.35822458e-01, -3.58763080e-01,  2.02205124e+00],\n",
       "       [ 3.55931633e-01, -8.64805230e-01, -4.76673428e-01],\n",
       "       [-2.57790815e-01, -1.22615201e+00,  4.43303816e-01],\n",
       "       [ 1.93708591e+00,  2.41915183e-01, -2.16777113e-01],\n",
       "       [ 2.33368564e+00,  9.84886879e-01, -4.79815615e-01],\n",
       "       [-3.41089362e-01, -9.28814359e-02,  1.30443025e+00],\n",
       "       [ 8.86763085e-01, -1.18193006e-03, -1.06627387e+00],\n",
       "       [ 8.69238186e-01,  1.45284682e-01,  8.67840897e-01],\n",
       "       [-6.82655795e-01, -4.07117740e-01, -1.57114559e-01],\n",
       "       [ 4.78013380e-01, -8.42175098e-01, -7.91125488e-01],\n",
       "       [-5.83240432e-02, -8.02517063e-01,  1.88458640e+00],\n",
       "       [-3.01069696e-01, -7.11560351e-01, -9.86464960e-01],\n",
       "       [-4.95934094e-01, -4.89819912e-01, -2.06723813e-01],\n",
       "       [-6.84909628e-01,  5.66265663e-03,  1.64023960e-01],\n",
       "       [-7.54020461e-01,  1.20776915e+00, -4.24439587e-01],\n",
       "       [ 5.41572353e-02, -8.59072072e-01,  6.33111665e-01],\n",
       "       [ 1.25397135e-01, -1.29347965e+00, -6.13340812e-01],\n",
       "       [-7.85335379e-01, -8.71109536e-02, -1.12029783e+00],\n",
       "       [ 2.07049179e+00,  4.97308704e-01, -4.57914279e-02],\n",
       "       [-3.76346631e-01, -7.93536412e-01, -1.12414872e+00],\n",
       "       [ 3.82183138e-01, -1.00029354e+00,  1.07107852e+00],\n",
       "       [-1.30534390e-01, -1.35453760e+00,  4.18490275e-01],\n",
       "       [-5.86521764e-02, -1.25454687e+00, -1.33227853e-01],\n",
       "       [-1.26567312e+00,  1.50636402e+00, -1.53911285e+00],\n",
       "       [-1.32698149e+00,  2.20775653e+00,  1.52493338e+00],\n",
       "       [ 4.78626451e-01, -1.21376633e+00, -5.03266497e-01],\n",
       "       [ 1.39512797e+00, -1.79593599e-01, -8.80023893e-02],\n",
       "       [ 9.96024770e-01, -6.38061163e-01, -8.55471804e-01],\n",
       "       [-2.79246456e-01, -5.57713599e-01, -1.00846876e-01],\n",
       "       [-2.39002756e-01, -7.90957454e-01,  4.06414517e-01],\n",
       "       [-5.71904614e-01, -1.44890760e-01,  5.61596050e-01],\n",
       "       [-2.60078526e-01, -1.14288776e+00, -5.32628009e-01],\n",
       "       [-1.26517913e+00,  1.34558679e+00, -2.93696763e-02],\n",
       "       [ 6.15540805e-01, -7.18044851e-01, -3.71215037e-01],\n",
       "       [-5.25309651e-01, -2.15233329e-01, -7.31540129e-01],\n",
       "       [ 1.95012497e+00,  6.06322153e-01, -5.26174421e-01],\n",
       "       [ 1.75688450e+00,  1.62642551e-01, -3.87457726e-01],\n",
       "       [-8.49124314e-01,  1.86051870e+00,  1.10906919e+00],\n",
       "       [-1.36274986e+00,  1.82614134e+00, -1.51355828e+00],\n",
       "       [-2.75133283e-01, -1.06615129e+00,  5.36780534e-01],\n",
       "       [ 2.01121269e+00,  3.74431565e-01, -4.43737120e-01],\n",
       "       [-1.29865196e+00,  1.71906945e+00,  8.19506070e-01],\n",
       "       [ 1.15583349e+00, -8.69166862e-01, -3.58277119e-01],\n",
       "       [-1.02945658e-01, -8.83001091e-01, -1.00238201e+00],\n",
       "       [-5.84890377e-01, -1.51942510e-01, -4.46045132e-01],\n",
       "       [-6.31159934e-01,  1.01306239e-03, -5.68378838e-01],\n",
       "       [ 6.07146342e-01, -8.17553273e-01, -3.06179644e-01],\n",
       "       [ 1.88660317e+00,  8.54289386e-01,  4.51021212e-01],\n",
       "       [-8.38886236e-01,  2.30799156e-01, -8.28084986e-02],\n",
       "       [-5.75380804e-01, -1.95955260e-01,  1.51925696e+00],\n",
       "       [-9.88777573e-02, -7.91368602e-01,  2.13361436e+00],\n",
       "       [-7.96781312e-01,  1.15557185e+00,  1.41895971e+00],\n",
       "       [ 1.06397610e+00,  3.56161948e-02, -2.58418159e-01],\n",
       "       [ 1.54484634e+00, -5.16912165e-01, -3.17176117e-01],\n",
       "       [-2.32759336e-01, -9.32383998e-01,  8.36481300e-01],\n",
       "       [ 1.73589392e+00, -6.70466144e-01, -6.84462859e-01],\n",
       "       [-3.75566408e-01, -3.04225129e-01,  4.63114135e-01],\n",
       "       [-2.72066789e-01,  2.99358606e-01,  2.43502199e+00],\n",
       "       [-1.13320178e+00,  1.03847988e+00, -1.75348223e+00],\n",
       "       [ 1.68767951e+00,  1.20722770e+00,  2.14258552e+00],\n",
       "       [-7.30536235e-01, -1.64616644e-01,  3.51425179e-01],\n",
       "       [-1.07105892e+00,  9.75409525e-01, -3.72707664e-01],\n",
       "       [ 3.66481021e-01, -1.13162528e+00, -9.68035046e-01],\n",
       "       [-1.45839783e+00,  1.98412562e+00, -1.52357970e+00],\n",
       "       [ 2.57695393e-01, -1.33119254e-01,  1.97079798e+00],\n",
       "       [ 4.36090320e-01, -8.33245560e-01, -3.63525049e-01],\n",
       "       [-1.29533879e+00,  1.43448074e+00, -6.43971592e-01],\n",
       "       [ 2.16876037e-01, -6.04950489e-01,  5.68275710e-01],\n",
       "       [ 9.42705258e-02, -1.08903982e+00, -2.82490448e-01],\n",
       "       [ 1.59574927e+00,  7.55257711e-01, -5.72387296e-02],\n",
       "       [-1.36894069e+00,  2.14178619e+00,  1.27199347e+00],\n",
       "       [ 1.44744025e-01, -1.09354191e+00, -6.70760280e-01],\n",
       "       [-7.45485582e-01,  3.19659140e-01, -1.08990013e+00],\n",
       "       [-3.69187422e-01, -1.16156379e+00,  8.98392331e-01],\n",
       "       [-3.91009552e-01, -7.95339650e-01, -1.01874205e+00],\n",
       "       [-8.38471181e-01,  1.07335694e-01, -4.40128450e-01],\n",
       "       [-8.82085349e-01,  1.23160176e+00, -1.50915600e+00],\n",
       "       [-8.31546917e-01,  3.93107359e-02,  1.19908102e+00],\n",
       "       [ 1.32878112e+00, -5.69707658e-02,  1.21079145e-01],\n",
       "       [ 6.07395358e-01,  5.75933375e-01,  2.41691624e+00],\n",
       "       [-1.21126358e+00,  1.44987725e+00, -1.53906108e-01],\n",
       "       [ 1.39290894e-01, -6.51776301e-01, -3.89480567e-01],\n",
       "       [-3.54351604e-01, -7.06372641e-01,  1.41287801e-02],\n",
       "       [-1.62490449e-01, -1.06531561e+00,  2.08536130e-01],\n",
       "       [-6.29369984e-01, -2.43660096e-01, -6.76269599e-01],\n",
       "       [ 4.83952501e-01, -1.24775493e+00, -3.04021900e-01],\n",
       "       [ 1.04899867e+00, -9.64514635e-01, -3.88834806e-01],\n",
       "       [ 1.27315144e-01, -1.18148323e+00, -1.34247694e-01],\n",
       "       [ 3.90349856e-02, -5.36052515e-01,  1.73215122e+00],\n",
       "       [-1.14014406e+00,  1.00551657e+00, -1.61808117e+00],\n",
       "       [-5.79174491e-01, -8.80993846e-02, -1.07552552e+00],\n",
       "       [ 3.67786010e-01, -4.86389883e-01, -1.72216987e+00],\n",
       "       [ 8.31084193e-01, -5.21624421e-01, -6.58316618e-01],\n",
       "       [ 1.22511388e+00, -4.33739079e-01, -7.62234007e-01],\n",
       "       [-9.96444733e-01,  6.51346195e-01, -6.81245076e-01],\n",
       "       [-7.84244756e-01,  1.14055104e+00, -1.02016848e+00],\n",
       "       [ 1.04684396e+00, -8.65941517e-01,  2.03608838e-01],\n",
       "       [ 1.35133694e+00, -8.49224901e-01, -3.28687712e-01],\n",
       "       [-1.90349566e-01, -8.05452089e-01, -2.92643343e-01],\n",
       "       [-1.30798834e+00,  1.85971010e+00,  1.48750538e+00],\n",
       "       [-1.72765498e-01, -1.98816468e-01,  1.21612508e-01],\n",
       "       [ 2.32763881e+00,  1.16268220e+00, -4.33798817e-01],\n",
       "       [-9.08369751e-01,  3.87608455e-01,  6.39683982e-01],\n",
       "       [-1.47052548e+00,  2.09094728e+00, -7.80966094e-01],\n",
       "       [-5.84741611e-01, -1.62369761e-01, -7.33011162e-01],\n",
       "       [-8.82987348e-02, -1.23636985e+00, -1.29575972e-01],\n",
       "       [ 1.55353387e-01, -9.28146833e-01,  5.86149387e-01],\n",
       "       [-6.07780608e-01,  3.49755569e-01, -1.22907097e+00],\n",
       "       [-1.68505275e+00,  2.75171966e+00, -8.00606147e-01],\n",
       "       [-2.82061132e-01, -1.05575782e+00,  1.43351252e+00],\n",
       "       [ 1.63033469e+00,  1.40535929e+00,  1.94483607e+00],\n",
       "       [ 1.57754746e+00,  6.79394665e-02, -2.62866659e-01],\n",
       "       [ 2.31230867e+00,  7.72249413e-01, -5.65108153e-01],\n",
       "       [ 2.34964303e-01, -9.74542303e-01,  1.46082365e-01],\n",
       "       [-6.93115003e-01, -1.92791411e-01,  1.61973561e+00],\n",
       "       [-7.82561180e-01,  2.22764082e-01, -1.31801287e+00],\n",
       "       [-4.20027255e-01, -9.41739347e-01,  1.13804080e+00],\n",
       "       [-1.17406098e+00,  1.47991155e+00,  2.47690433e+00]])"
      ]
     },
     "execution_count": 58,
     "metadata": {},
     "output_type": "execute_result"
    }
   ],
   "source": [
    "pc_cnt_scaled"
   ]
  },
  {
   "cell_type": "markdown",
   "metadata": {},
   "source": [
    "# KMeans Clustering "
   ]
  },
  {
   "cell_type": "code",
   "execution_count": 59,
   "metadata": {},
   "outputs": [],
   "source": [
    "#silhouette_score\n",
    "\n",
    "from sklearn.metrics import silhouette_score\n",
    "from sklearn.cluster import KMeans\n",
    "\n",
    "sse=[]\n",
    "for k in range (2,10):\n",
    "    kmeans=KMeans(n_clusters=k).fit(pc_cnt_scaled)\n",
    "    sse.append([k,silhouette_score(pc_cnt_scaled,kmeans.labels_)])  "
   ]
  },
  {
   "cell_type": "code",
   "execution_count": 60,
   "metadata": {},
   "outputs": [
    {
     "data": {
      "image/png": "[encoded data removed]",
      "text/plain": [
       "<Figure size 432x288 with 1 Axes>"
      ]
     },
     "metadata": {
      "needs_background": "light"
     },
     "output_type": "display_data"
    }
   ],
   "source": [
    "#plot silhouette_score for each K value \n",
    "\n",
    "plt.plot(pd.DataFrame(sse)[0],pd.DataFrame(sse)[1]);"
   ]
  },
  {
   "cell_type": "markdown",
   "metadata": {},
   "source": []
  },
  {
   "cell_type": "code",
   "execution_count": 61,
   "metadata": {},
   "outputs": [
    {
     "data": {
      "text/plain": [
       "[<matplotlib.lines.Line2D at 0x40946d0>]"
      ]
     },
     "execution_count": 61,
     "metadata": {},
     "output_type": "execute_result"
    },
    {
     "data": {
      "image/png": "[encoded data removed]",
      "text/plain": [
       "<Figure size 432x288 with 1 Axes>"
      ]
     },
     "metadata": {
      "needs_background": "light"
     },
     "output_type": "display_data"
    }
   ],
   "source": [
    "#elbow plot\n",
    "\n",
    "ssd=[]\n",
    "for num_cluster in list(range(1,10)):\n",
    "    model_clus= KMeans(n_clusters =num_cluster,max_iter=50)\n",
    "    model_clus.fit(pc_cnt_scaled)\n",
    "    ssd.append(model_clus.inertia_)\n",
    "plt.plot(ssd)"
   ]
  },
  {
   "cell_type": "code",
   "execution_count": 62,
   "metadata": {},
   "outputs": [
    {
     "data": {
      "text/plain": [
       "KMeans(max_iter=50, n_clusters=5)"
      ]
     },
     "execution_count": 62,
     "metadata": {},
     "output_type": "execute_result"
    }
   ],
   "source": [
    "#fit with n_cluster 5\n",
    "\n",
    "model_clus_5= KMeans(n_clusters=5,max_iter=50)\n",
    "model_clus_5.fit(pc_cnt_scaled)"
   ]
  },
  {
   "cell_type": "code",
   "execution_count": 64,
   "metadata": {},
   "outputs": [],
   "source": [
    "PC_cnt_2=pc_cnt_1\n",
    "PC_cnt_2.index=pd.RangeIndex(len(PC_cnt_2.index))\n",
    "PC_cnt_2.head()"
   ]
  },
  {
   "cell_type": "code",
   "execution_count": 77,
   "metadata": {},
   "outputs": [
    {
     "data": {
      "text/html": [
       "<div>\n",
       "<style scoped>\n",
       "    .dataframe tbody tr th:only-of-type {\n",
       "        vertical-align: middle;\n",
       "    }\n",
       "\n",
       "    .dataframe tbody tr th {\n",
       "        vertical-align: top;\n",
       "    }\n",
       "\n",
       "    .dataframe thead th {\n",
       "        text-align: right;\n",
       "    }\n",
       "</style>\n",
       "<table border=\"1\" class=\"dataframe\">\n",
       "  <thead>\n",
       "    <tr style=\"text-align: right;\">\n",
       "      <th></th>\n",
       "      <th>country</th>\n",
       "      <th>PC1</th>\n",
       "      <th>PC2</th>\n",
       "      <th>PC3</th>\n",
       "      <th>Cluster_ID</th>\n",
       "    </tr>\n",
       "  </thead>\n",
       "  <tbody>\n",
       "    <tr>\n",
       "      <th>0</th>\n",
       "      <td>Afghanistan</td>\n",
       "      <td>-2.635575</td>\n",
       "      <td>1.472267</td>\n",
       "      <td>-0.549489</td>\n",
       "      <td>2</td>\n",
       "    </tr>\n",
       "    <tr>\n",
       "      <th>1</th>\n",
       "      <td>Algeria</td>\n",
       "      <td>-0.459557</td>\n",
       "      <td>-0.675495</td>\n",
       "      <td>0.959355</td>\n",
       "      <td>0</td>\n",
       "    </tr>\n",
       "    <tr>\n",
       "      <th>2</th>\n",
       "      <td>Antigua and Barbuda</td>\n",
       "      <td>0.648597</td>\n",
       "      <td>-1.023437</td>\n",
       "      <td>-0.257430</td>\n",
       "      <td>4</td>\n",
       "    </tr>\n",
       "    <tr>\n",
       "      <th>3</th>\n",
       "      <td>Armenia</td>\n",
       "      <td>-0.334555</td>\n",
       "      <td>-1.271889</td>\n",
       "      <td>0.190564</td>\n",
       "      <td>0</td>\n",
       "    </tr>\n",
       "    <tr>\n",
       "      <th>4</th>\n",
       "      <td>Australia</td>\n",
       "      <td>3.181525</td>\n",
       "      <td>-0.262485</td>\n",
       "      <td>-0.130870</td>\n",
       "      <td>1</td>\n",
       "    </tr>\n",
       "    <tr>\n",
       "      <th>...</th>\n",
       "      <td>...</td>\n",
       "      <td>...</td>\n",
       "      <td>...</td>\n",
       "      <td>...</td>\n",
       "      <td>...</td>\n",
       "    </tr>\n",
       "    <tr>\n",
       "      <th>114</th>\n",
       "      <td>Uruguay</td>\n",
       "      <td>0.454814</td>\n",
       "      <td>-1.098889</td>\n",
       "      <td>0.045829</td>\n",
       "      <td>4</td>\n",
       "    </tr>\n",
       "    <tr>\n",
       "      <th>115</th>\n",
       "      <td>Uzbekistan</td>\n",
       "      <td>-1.031922</td>\n",
       "      <td>-0.561378</td>\n",
       "      <td>0.763442</td>\n",
       "      <td>0</td>\n",
       "    </tr>\n",
       "    <tr>\n",
       "      <th>116</th>\n",
       "      <td>Vanuatu</td>\n",
       "      <td>-1.175210</td>\n",
       "      <td>-0.275652</td>\n",
       "      <td>-0.667131</td>\n",
       "      <td>2</td>\n",
       "    </tr>\n",
       "    <tr>\n",
       "      <th>117</th>\n",
       "      <td>Vietnam</td>\n",
       "      <td>-0.594449</td>\n",
       "      <td>-1.076335</td>\n",
       "      <td>0.528875</td>\n",
       "      <td>0</td>\n",
       "    </tr>\n",
       "    <tr>\n",
       "      <th>118</th>\n",
       "      <td>Yemen</td>\n",
       "      <td>-1.802372</td>\n",
       "      <td>0.588729</td>\n",
       "      <td>1.180851</td>\n",
       "      <td>3</td>\n",
       "    </tr>\n",
       "  </tbody>\n",
       "</table>\n",
       "<p>119 rows × 5 columns</p>\n",
       "</div>"
      ],
      "text/plain": [
       "                 country       PC1       PC2       PC3  Cluster_ID\n",
       "0            Afghanistan -2.635575  1.472267 -0.549489           2\n",
       "1                Algeria -0.459557 -0.675495  0.959355           0\n",
       "2    Antigua and Barbuda  0.648597 -1.023437 -0.257430           4\n",
       "3                Armenia -0.334555 -1.271889  0.190564           0\n",
       "4              Australia  3.181525 -0.262485 -0.130870           1\n",
       "..                   ...       ...       ...       ...         ...\n",
       "114              Uruguay  0.454814 -1.098889  0.045829           4\n",
       "115           Uzbekistan -1.031922 -0.561378  0.763442           0\n",
       "116              Vanuatu -1.175210 -0.275652 -0.667131           2\n",
       "117              Vietnam -0.594449 -1.076335  0.528875           0\n",
       "118                Yemen -1.802372  0.588729  1.180851           3\n",
       "\n",
       "[119 rows x 5 columns]"
      ]
     },
     "execution_count": 77,
     "metadata": {},
     "output_type": "execute_result"
    }
   ],
   "source": [
    "cnt_km=pd.concat([PC_cnt_2,pd.Series(model_clus_5.labels_)],axis=1)\n",
    "cnt_km.columns=['country','PC1','PC2','PC3','Cluster_ID']\n",
    "cnt_km"
   ]
  },
  {
   "cell_type": "code",
   "execution_count": 69,
   "metadata": {},
   "outputs": [
    {
     "data": {
      "text/plain": [
       "4    43\n",
       "0    27\n",
       "2    19\n",
       "1    19\n",
       "3    11\n",
       "Name: Cluster_ID, dtype: int64"
      ]
     },
     "execution_count": 69,
     "metadata": {},
     "output_type": "execute_result"
    }
   ],
   "source": [
    "#count of each cluster\n",
    "\n",
    "cnt_km['Cluster_ID'].value_counts()"
   ]
  },
  {
   "cell_type": "code",
   "execution_count": 70,
   "metadata": {},
   "outputs": [
    {
     "data": {
      "text/plain": [
       "<matplotlib.axes._subplots.AxesSubplot at 0x40a9400>"
      ]
     },
     "execution_count": 70,
     "metadata": {},
     "output_type": "execute_result"
    },
    {
     "data": {
      "image/png": "[encoded data removed]",
      "text/plain": [
       "<Figure size 432x288 with 1 Axes>"
      ]
     },
     "metadata": {
      "needs_background": "light"
     },
     "output_type": "display_data"
    }
   ],
   "source": [
    "#scatter plot for clusters\n",
    "\n",
    "sns.scatterplot(x='PC1',y='PC2',hue='Cluster_ID',data=cnt_km)"
   ]
  },
  {
   "cell_type": "code",
   "execution_count": 71,
   "metadata": {},
   "outputs": [
    {
     "data": {
      "text/plain": [
       "<matplotlib.axes._subplots.AxesSubplot at 0x40f7fe8>"
      ]
     },
     "execution_count": 71,
     "metadata": {},
     "output_type": "execute_result"
    },
    {
     "data": {
      "image/png": "[encoded data removed]",
      "text/plain": [
       "<Figure size 432x288 with 1 Axes>"
      ]
     },
     "metadata": {
      "needs_background": "light"
     },
     "output_type": "display_data"
    }
   ],
   "source": [
    "sns.scatterplot(x='PC2',y='PC3',hue='Cluster_ID',data=cnt_km)"
   ]
  },
  {
   "cell_type": "code",
   "execution_count": 72,
   "metadata": {},
   "outputs": [
    {
     "data": {
      "text/plain": [
       "<matplotlib.axes._subplots.AxesSubplot at 0x40d05f8>"
      ]
     },
     "execution_count": 72,
     "metadata": {},
     "output_type": "execute_result"
    },
    {
     "data": {
      "image/png": "[encoded data removed]",
      "text/plain": [
       "<Figure size 432x288 with 1 Axes>"
      ]
     },
     "metadata": {
      "needs_background": "light"
     },
     "output_type": "display_data"
    }
   ],
   "source": [
    "sns.scatterplot(x='PC3',y='PC1',hue='Cluster_ID',data=cnt_km)"
   ]
  },
  {
   "cell_type": "code",
   "execution_count": 78,
   "metadata": {},
   "outputs": [
    {
     "data": {
      "text/html": [
       "<div>\n",
       "<style scoped>\n",
       "    .dataframe tbody tr th:only-of-type {\n",
       "        vertical-align: middle;\n",
       "    }\n",
       "\n",
       "    .dataframe tbody tr th {\n",
       "        vertical-align: top;\n",
       "    }\n",
       "\n",
       "    .dataframe thead th {\n",
       "        text-align: right;\n",
       "    }\n",
       "</style>\n",
       "<table border=\"1\" class=\"dataframe\">\n",
       "  <thead>\n",
       "    <tr style=\"text-align: right;\">\n",
       "      <th></th>\n",
       "      <th>country</th>\n",
       "      <th>child_mort</th>\n",
       "      <th>exports</th>\n",
       "      <th>health</th>\n",
       "      <th>imports</th>\n",
       "      <th>income</th>\n",
       "      <th>inflation</th>\n",
       "      <th>life_expec</th>\n",
       "      <th>total_fer</th>\n",
       "      <th>gdpp</th>\n",
       "      <th>PC1</th>\n",
       "      <th>PC2</th>\n",
       "      <th>PC3</th>\n",
       "      <th>Cluster_ID</th>\n",
       "    </tr>\n",
       "  </thead>\n",
       "  <tbody>\n",
       "    <tr>\n",
       "      <th>0</th>\n",
       "      <td>Afghanistan</td>\n",
       "      <td>90.2</td>\n",
       "      <td>55.30</td>\n",
       "      <td>41.9174</td>\n",
       "      <td>248.297</td>\n",
       "      <td>1610</td>\n",
       "      <td>9.44</td>\n",
       "      <td>56.2</td>\n",
       "      <td>5.82</td>\n",
       "      <td>553</td>\n",
       "      <td>-2.635575</td>\n",
       "      <td>1.472267</td>\n",
       "      <td>-0.549489</td>\n",
       "      <td>2</td>\n",
       "    </tr>\n",
       "    <tr>\n",
       "      <th>1</th>\n",
       "      <td>Algeria</td>\n",
       "      <td>27.3</td>\n",
       "      <td>1712.64</td>\n",
       "      <td>185.9820</td>\n",
       "      <td>1400.440</td>\n",
       "      <td>12900</td>\n",
       "      <td>16.10</td>\n",
       "      <td>76.5</td>\n",
       "      <td>2.89</td>\n",
       "      <td>4460</td>\n",
       "      <td>-0.459557</td>\n",
       "      <td>-0.675495</td>\n",
       "      <td>0.959355</td>\n",
       "      <td>0</td>\n",
       "    </tr>\n",
       "    <tr>\n",
       "      <th>2</th>\n",
       "      <td>Antigua and Barbuda</td>\n",
       "      <td>10.3</td>\n",
       "      <td>5551.00</td>\n",
       "      <td>735.6600</td>\n",
       "      <td>7185.800</td>\n",
       "      <td>19100</td>\n",
       "      <td>1.44</td>\n",
       "      <td>76.8</td>\n",
       "      <td>2.13</td>\n",
       "      <td>12200</td>\n",
       "      <td>0.648597</td>\n",
       "      <td>-1.023437</td>\n",
       "      <td>-0.257430</td>\n",
       "      <td>4</td>\n",
       "    </tr>\n",
       "    <tr>\n",
       "      <th>3</th>\n",
       "      <td>Armenia</td>\n",
       "      <td>18.1</td>\n",
       "      <td>669.76</td>\n",
       "      <td>141.6800</td>\n",
       "      <td>1458.660</td>\n",
       "      <td>6700</td>\n",
       "      <td>7.77</td>\n",
       "      <td>73.3</td>\n",
       "      <td>1.69</td>\n",
       "      <td>3220</td>\n",
       "      <td>-0.334555</td>\n",
       "      <td>-1.271889</td>\n",
       "      <td>0.190564</td>\n",
       "      <td>0</td>\n",
       "    </tr>\n",
       "    <tr>\n",
       "      <th>4</th>\n",
       "      <td>Australia</td>\n",
       "      <td>4.8</td>\n",
       "      <td>10276.20</td>\n",
       "      <td>4530.8700</td>\n",
       "      <td>10847.100</td>\n",
       "      <td>41400</td>\n",
       "      <td>1.16</td>\n",
       "      <td>82.0</td>\n",
       "      <td>1.93</td>\n",
       "      <td>51900</td>\n",
       "      <td>3.181525</td>\n",
       "      <td>-0.262485</td>\n",
       "      <td>-0.130870</td>\n",
       "      <td>1</td>\n",
       "    </tr>\n",
       "  </tbody>\n",
       "</table>\n",
       "</div>"
      ],
      "text/plain": [
       "               country  child_mort   exports     health    imports  income  \\\n",
       "0          Afghanistan        90.2     55.30    41.9174    248.297    1610   \n",
       "1              Algeria        27.3   1712.64   185.9820   1400.440   12900   \n",
       "2  Antigua and Barbuda        10.3   5551.00   735.6600   7185.800   19100   \n",
       "3              Armenia        18.1    669.76   141.6800   1458.660    6700   \n",
       "4            Australia         4.8  10276.20  4530.8700  10847.100   41400   \n",
       "\n",
       "   inflation  life_expec  total_fer   gdpp       PC1       PC2       PC3  \\\n",
       "0       9.44        56.2       5.82    553 -2.635575  1.472267 -0.549489   \n",
       "1      16.10        76.5       2.89   4460 -0.459557 -0.675495  0.959355   \n",
       "2       1.44        76.8       2.13  12200  0.648597 -1.023437 -0.257430   \n",
       "3       7.77        73.3       1.69   3220 -0.334555 -1.271889  0.190564   \n",
       "4       1.16        82.0       1.93  51900  3.181525 -0.262485 -0.130870   \n",
       "\n",
       "   Cluster_ID  \n",
       "0           2  \n",
       "1           0  \n",
       "2           4  \n",
       "3           0  \n",
       "4           1  "
      ]
     },
     "execution_count": 78,
     "metadata": {},
     "output_type": "execute_result"
    }
   ],
   "source": [
    "#merging the determined cluster clasification with the data given\n",
    "\n",
    "cnt1=pd.merge(cnt,cnt_km, on='country')\n",
    "cnt1.head()"
   ]
  },
  {
   "cell_type": "code",
   "execution_count": null,
   "metadata": {},
   "outputs": [],
   "source": [
    "#Removing PC1,PC2 and PC3\n",
    "\n",
    "cnt1.drop(['PC1','PC2','PC3'], axis=1,inplace=True)"
   ]
  },
  {
   "cell_type": "code",
   "execution_count": 90,
   "metadata": {},
   "outputs": [],
   "source": [
    "#cluster the countries \n",
    " \n",
    "Cluster1=cnt1[cnt1['Cluster_ID']==0]['country'].unique()\n",
    "Cluster2=cnt1[cnt1['Cluster_ID']==1]['country'].unique()\n",
    "Cluster3=cnt1[cnt1['Cluster_ID']==2]['country'].unique()\n",
    "Cluster4=cnt1[cnt1['Cluster_ID']==3]['country'].unique()\n",
    "Cluster5=cnt1[cnt1['Cluster_ID']==4]['country'].unique()"
   ]
  },
  {
   "cell_type": "code",
   "execution_count": 96,
   "metadata": {},
   "outputs": [
    {
     "name": "stdout",
     "output_type": "stream",
     "text": [
      "Cluster1: ['Algeria' 'Armenia' 'Azerbaijan' 'Bahrain' 'Belarus' 'Bolivia' 'Brazil'\n",
      " 'Chile' 'China' 'Ecuador' 'Egypt' 'Georgia' 'Indonesia' 'Iran' 'Jamaica'\n",
      " 'Jordan' 'Kyrgyz Republic' 'Libya' 'Malaysia' 'Moldova' 'Nepal' 'Russia'\n",
      " 'Tajikistan' 'Turkey' 'Ukraine' 'Uzbekistan' 'Vietnam']\n",
      "===========================================================================================\n",
      "Cluster2: ['Australia' 'Austria' 'Bahamas' 'Canada' 'Cyprus' 'Finland' 'France'\n",
      " 'Germany' 'Iceland' 'Israel' 'Italy' 'Japan' 'Malta' 'New Zealand'\n",
      " 'Slovenia' 'Spain' 'Sweden' 'United Kingdom' 'United States']\n",
      "===========================================================================================\n",
      "Cluster3: ['Afghanistan' 'Botswana' 'Comoros' 'Eritrea' 'Gambia' 'Kenya' 'Lao'\n",
      " 'Liberia' 'Madagascar' 'Micronesia, Fed. Sts.' 'Namibia' 'Pakistan'\n",
      " 'Rwanda' 'Solomon Islands' 'South Africa' 'Tanzania' 'Turkmenistan'\n",
      " 'Uganda' 'Vanuatu']\n",
      "===========================================================================================\n",
      "Cluster4: ['Congo, Rep.' 'Gabon' 'Ghana' 'Iraq' 'Kazakhstan' 'Kuwait' 'Mauritania'\n",
      " 'Oman' 'Sudan' 'United Arab Emirates' 'Yemen']\n",
      "===========================================================================================\n",
      "Cluster5: ['Antigua and Barbuda' 'Bangladesh' 'Barbados' 'Belize' 'Bhutan'\n",
      " 'Bulgaria' 'Cambodia' 'Cape Verde' 'Colombia' 'Croatia' 'Czech Republic'\n",
      " 'Dominican Republic' 'El Salvador' 'Estonia' 'Fiji' 'Greece' 'Grenada'\n",
      " 'Guatemala' 'Guyana' 'Hungary' 'India' 'Latvia' 'Lithuania' 'Maldives'\n",
      " 'Mauritius' 'Morocco' 'Myanmar' 'Panama' 'Paraguay' 'Peru' 'Philippines'\n",
      " 'Poland' 'Portugal' 'Romania' 'Samoa' 'Seychelles' 'Slovak Republic'\n",
      " 'South Korea' 'St. Vincent and the Grenadines' 'Suriname' 'Tonga'\n",
      " 'Tunisia' 'Uruguay']\n"
     ]
    }
   ],
   "source": [
    "#Print clustered countries\n",
    "\n",
    "print('Cluster1:',Cluster1)\n",
    "print('===========================================================================================')\n",
    "print('Cluster2:',Cluster2)\n",
    "print('===========================================================================================')\n",
    "print('Cluster3:',Cluster3)\n",
    "print('===========================================================================================')\n",
    "print('Cluster4:',Cluster4)\n",
    "print('===========================================================================================')\n",
    "print('Cluster5:',Cluster5)"
   ]
  },
  {
   "cell_type": "code",
   "execution_count": null,
   "metadata": {},
   "outputs": [],
   "source": []
  },
  {
   "cell_type": "markdown",
   "metadata": {},
   "source": [
    "# Hierarchical clustering"
   ]
  },
  {
   "cell_type": "code",
   "execution_count": 100,
   "metadata": {},
   "outputs": [],
   "source": [
    "#import libraries \n",
    "\n",
    "from scipy.cluster.hierarchy import linkage\n",
    "from scipy.cluster.hierarchy import dendrogram\n",
    "from scipy.cluster.hierarchy import cut_tree"
   ]
  },
  {
   "cell_type": "code",
   "execution_count": 104,
   "metadata": {},
   "outputs": [
    {
     "data": {
      "image/png": "[encoded data removed]",
      "text/plain": [
       "<Figure size 432x288 with 1 Axes>"
      ]
     },
     "metadata": {
      "needs_background": "light"
     },
     "output_type": "display_data"
    }
   ],
   "source": [
    "merging =linkage(pc_cnt_scaled,method='single',metric='euclidean')\n",
    "dendrogram(merging)\n",
    "plt.show()"
   ]
  },
  {
   "cell_type": "code",
   "execution_count": 105,
   "metadata": {},
   "outputs": [
    {
     "data": {
      "image/png": "[encoded data removed]",
      "text/plain": [
       "<Figure size 432x288 with 1 Axes>"
      ]
     },
     "metadata": {
      "needs_background": "light"
     },
     "output_type": "display_data"
    }
   ],
   "source": [
    "merging =linkage(pc_cnt_scaled,method='complete',metric='euclidean')\n",
    "dendrogram(merging)\n",
    "plt.show()"
   ]
  },
  {
   "cell_type": "code",
   "execution_count": 107,
   "metadata": {},
   "outputs": [],
   "source": [
    "clustercut=pd.Series(cut_tree(merging,n_clusters=5).reshape(-1))"
   ]
  },
  {
   "cell_type": "code",
   "execution_count": 121,
   "metadata": {},
   "outputs": [
    {
     "data": {
      "text/html": [
       "<div>\n",
       "<style scoped>\n",
       "    .dataframe tbody tr th:only-of-type {\n",
       "        vertical-align: middle;\n",
       "    }\n",
       "\n",
       "    .dataframe tbody tr th {\n",
       "        vertical-align: top;\n",
       "    }\n",
       "\n",
       "    .dataframe thead th {\n",
       "        text-align: right;\n",
       "    }\n",
       "</style>\n",
       "<table border=\"1\" class=\"dataframe\">\n",
       "  <thead>\n",
       "    <tr style=\"text-align: right;\">\n",
       "      <th></th>\n",
       "      <th>country</th>\n",
       "      <th>PC1</th>\n",
       "      <th>PC2</th>\n",
       "      <th>PC3</th>\n",
       "      <th>Cluster_ID</th>\n",
       "    </tr>\n",
       "  </thead>\n",
       "  <tbody>\n",
       "    <tr>\n",
       "      <th>0</th>\n",
       "      <td>Afghanistan</td>\n",
       "      <td>-2.635575</td>\n",
       "      <td>1.472267</td>\n",
       "      <td>-0.549489</td>\n",
       "      <td>0</td>\n",
       "    </tr>\n",
       "    <tr>\n",
       "      <th>1</th>\n",
       "      <td>Algeria</td>\n",
       "      <td>-0.459557</td>\n",
       "      <td>-0.675495</td>\n",
       "      <td>0.959355</td>\n",
       "      <td>1</td>\n",
       "    </tr>\n",
       "    <tr>\n",
       "      <th>2</th>\n",
       "      <td>Antigua and Barbuda</td>\n",
       "      <td>0.648597</td>\n",
       "      <td>-1.023437</td>\n",
       "      <td>-0.257430</td>\n",
       "      <td>2</td>\n",
       "    </tr>\n",
       "    <tr>\n",
       "      <th>3</th>\n",
       "      <td>Armenia</td>\n",
       "      <td>-0.334555</td>\n",
       "      <td>-1.271889</td>\n",
       "      <td>0.190564</td>\n",
       "      <td>2</td>\n",
       "    </tr>\n",
       "    <tr>\n",
       "      <th>4</th>\n",
       "      <td>Australia</td>\n",
       "      <td>3.181525</td>\n",
       "      <td>-0.262485</td>\n",
       "      <td>-0.130870</td>\n",
       "      <td>3</td>\n",
       "    </tr>\n",
       "    <tr>\n",
       "      <th>...</th>\n",
       "      <td>...</td>\n",
       "      <td>...</td>\n",
       "      <td>...</td>\n",
       "      <td>...</td>\n",
       "      <td>...</td>\n",
       "    </tr>\n",
       "    <tr>\n",
       "      <th>114</th>\n",
       "      <td>Uruguay</td>\n",
       "      <td>0.454814</td>\n",
       "      <td>-1.098889</td>\n",
       "      <td>0.045829</td>\n",
       "      <td>2</td>\n",
       "    </tr>\n",
       "    <tr>\n",
       "      <th>115</th>\n",
       "      <td>Uzbekistan</td>\n",
       "      <td>-1.031922</td>\n",
       "      <td>-0.561378</td>\n",
       "      <td>0.763442</td>\n",
       "      <td>1</td>\n",
       "    </tr>\n",
       "    <tr>\n",
       "      <th>116</th>\n",
       "      <td>Vanuatu</td>\n",
       "      <td>-1.175210</td>\n",
       "      <td>-0.275652</td>\n",
       "      <td>-0.667131</td>\n",
       "      <td>2</td>\n",
       "    </tr>\n",
       "    <tr>\n",
       "      <th>117</th>\n",
       "      <td>Vietnam</td>\n",
       "      <td>-0.594449</td>\n",
       "      <td>-1.076335</td>\n",
       "      <td>0.528875</td>\n",
       "      <td>1</td>\n",
       "    </tr>\n",
       "    <tr>\n",
       "      <th>118</th>\n",
       "      <td>Yemen</td>\n",
       "      <td>-1.802372</td>\n",
       "      <td>0.588729</td>\n",
       "      <td>1.180851</td>\n",
       "      <td>4</td>\n",
       "    </tr>\n",
       "  </tbody>\n",
       "</table>\n",
       "<p>119 rows × 5 columns</p>\n",
       "</div>"
      ],
      "text/plain": [
       "                 country       PC1       PC2       PC3  Cluster_ID\n",
       "0            Afghanistan -2.635575  1.472267 -0.549489           0\n",
       "1                Algeria -0.459557 -0.675495  0.959355           1\n",
       "2    Antigua and Barbuda  0.648597 -1.023437 -0.257430           2\n",
       "3                Armenia -0.334555 -1.271889  0.190564           2\n",
       "4              Australia  3.181525 -0.262485 -0.130870           3\n",
       "..                   ...       ...       ...       ...         ...\n",
       "114              Uruguay  0.454814 -1.098889  0.045829           2\n",
       "115           Uzbekistan -1.031922 -0.561378  0.763442           1\n",
       "116              Vanuatu -1.175210 -0.275652 -0.667131           2\n",
       "117              Vietnam -0.594449 -1.076335  0.528875           1\n",
       "118                Yemen -1.802372  0.588729  1.180851           4\n",
       "\n",
       "[119 rows x 5 columns]"
      ]
     },
     "execution_count": 121,
     "metadata": {},
     "output_type": "execute_result"
    }
   ],
   "source": [
    "cnt_hc= pd.concat([pc_cnt_1,clustercut],axis=1)\n",
    "cnt_hc=cnt_hc.rename({0:'Cluster_ID'},axis=1)\n",
    "cnt_hc"
   ]
  },
  {
   "cell_type": "code",
   "execution_count": 122,
   "metadata": {},
   "outputs": [
    {
     "data": {
      "text/html": [
       "<div>\n",
       "<style scoped>\n",
       "    .dataframe tbody tr th:only-of-type {\n",
       "        vertical-align: middle;\n",
       "    }\n",
       "\n",
       "    .dataframe tbody tr th {\n",
       "        vertical-align: top;\n",
       "    }\n",
       "\n",
       "    .dataframe thead th {\n",
       "        text-align: right;\n",
       "    }\n",
       "</style>\n",
       "<table border=\"1\" class=\"dataframe\">\n",
       "  <thead>\n",
       "    <tr style=\"text-align: right;\">\n",
       "      <th></th>\n",
       "      <th>country</th>\n",
       "      <th>child_mort</th>\n",
       "      <th>exports</th>\n",
       "      <th>health</th>\n",
       "      <th>imports</th>\n",
       "      <th>income</th>\n",
       "      <th>inflation</th>\n",
       "      <th>life_expec</th>\n",
       "      <th>total_fer</th>\n",
       "      <th>gdpp</th>\n",
       "      <th>Cluster_ID</th>\n",
       "    </tr>\n",
       "  </thead>\n",
       "  <tbody>\n",
       "    <tr>\n",
       "      <th>0</th>\n",
       "      <td>Afghanistan</td>\n",
       "      <td>90.2</td>\n",
       "      <td>55.30</td>\n",
       "      <td>41.9174</td>\n",
       "      <td>248.297</td>\n",
       "      <td>1610</td>\n",
       "      <td>9.44</td>\n",
       "      <td>56.2</td>\n",
       "      <td>5.82</td>\n",
       "      <td>553</td>\n",
       "      <td>0</td>\n",
       "    </tr>\n",
       "    <tr>\n",
       "      <th>1</th>\n",
       "      <td>Algeria</td>\n",
       "      <td>27.3</td>\n",
       "      <td>1712.64</td>\n",
       "      <td>185.9820</td>\n",
       "      <td>1400.440</td>\n",
       "      <td>12900</td>\n",
       "      <td>16.10</td>\n",
       "      <td>76.5</td>\n",
       "      <td>2.89</td>\n",
       "      <td>4460</td>\n",
       "      <td>1</td>\n",
       "    </tr>\n",
       "    <tr>\n",
       "      <th>2</th>\n",
       "      <td>Antigua and Barbuda</td>\n",
       "      <td>10.3</td>\n",
       "      <td>5551.00</td>\n",
       "      <td>735.6600</td>\n",
       "      <td>7185.800</td>\n",
       "      <td>19100</td>\n",
       "      <td>1.44</td>\n",
       "      <td>76.8</td>\n",
       "      <td>2.13</td>\n",
       "      <td>12200</td>\n",
       "      <td>2</td>\n",
       "    </tr>\n",
       "    <tr>\n",
       "      <th>3</th>\n",
       "      <td>Armenia</td>\n",
       "      <td>18.1</td>\n",
       "      <td>669.76</td>\n",
       "      <td>141.6800</td>\n",
       "      <td>1458.660</td>\n",
       "      <td>6700</td>\n",
       "      <td>7.77</td>\n",
       "      <td>73.3</td>\n",
       "      <td>1.69</td>\n",
       "      <td>3220</td>\n",
       "      <td>2</td>\n",
       "    </tr>\n",
       "    <tr>\n",
       "      <th>4</th>\n",
       "      <td>Australia</td>\n",
       "      <td>4.8</td>\n",
       "      <td>10276.20</td>\n",
       "      <td>4530.8700</td>\n",
       "      <td>10847.100</td>\n",
       "      <td>41400</td>\n",
       "      <td>1.16</td>\n",
       "      <td>82.0</td>\n",
       "      <td>1.93</td>\n",
       "      <td>51900</td>\n",
       "      <td>3</td>\n",
       "    </tr>\n",
       "  </tbody>\n",
       "</table>\n",
       "</div>"
      ],
      "text/plain": [
       "               country  child_mort   exports     health    imports  income  \\\n",
       "0          Afghanistan        90.2     55.30    41.9174    248.297    1610   \n",
       "1              Algeria        27.3   1712.64   185.9820   1400.440   12900   \n",
       "2  Antigua and Barbuda        10.3   5551.00   735.6600   7185.800   19100   \n",
       "3              Armenia        18.1    669.76   141.6800   1458.660    6700   \n",
       "4            Australia         4.8  10276.20  4530.8700  10847.100   41400   \n",
       "\n",
       "   inflation  life_expec  total_fer   gdpp  Cluster_ID  \n",
       "0       9.44        56.2       5.82    553           0  \n",
       "1      16.10        76.5       2.89   4460           1  \n",
       "2       1.44        76.8       2.13  12200           2  \n",
       "3       7.77        73.3       1.69   3220           2  \n",
       "4       1.16        82.0       1.93  51900           3  "
      ]
     },
     "execution_count": 122,
     "metadata": {},
     "output_type": "execute_result"
    }
   ],
   "source": [
    "cnt2=pd.merge(cnt,cnt_hc, on='country')\n",
    "cnt2.drop(['PC1','PC2','PC3'], axis=1,inplace=True)\n",
    "cnt2.head()"
   ]
  },
  {
   "cell_type": "code",
   "execution_count": 124,
   "metadata": {},
   "outputs": [
    {
     "data": {
      "text/plain": [
       "2    57\n",
       "1    24\n",
       "0    16\n",
       "4    11\n",
       "3    11\n",
       "Name: Cluster_ID, dtype: int64"
      ]
     },
     "execution_count": 124,
     "metadata": {},
     "output_type": "execute_result"
    }
   ],
   "source": [
    "cnt2['Cluster_ID'].value_counts()"
   ]
  },
  {
   "cell_type": "code",
   "execution_count": 127,
   "metadata": {},
   "outputs": [],
   "source": [
    "#cluster the countries based on dendrogram\n",
    " \n",
    "Cluster1=cnt2[cnt2['Cluster_ID']==0]['country'].unique()\n",
    "Cluster2=cnt2[cnt2['Cluster_ID']==1]['country'].unique()\n",
    "Cluster3=cnt2[cnt2['Cluster_ID']==2]['country'].unique()\n",
    "Cluster4=cnt2[cnt2['Cluster_ID']==3]['country'].unique()\n",
    "Cluster5=cnt2[cnt2['Cluster_ID']==4]['country'].unique()"
   ]
  },
  {
   "cell_type": "code",
   "execution_count": 128,
   "metadata": {},
   "outputs": [
    {
     "name": "stdout",
     "output_type": "stream",
     "text": [
      "Cluster1: ['Afghanistan' 'Botswana' 'Comoros' 'Eritrea' 'Gambia' 'Kenya' 'Lao'\n",
      " 'Liberia' 'Madagascar' 'Namibia' 'Pakistan' 'Rwanda' 'Solomon Islands'\n",
      " 'South Africa' 'Tanzania' 'Uganda']\n",
      "===========================================================================================\n",
      "Cluster2: ['Algeria' 'Azerbaijan' 'Bahrain' 'Belarus' 'Bolivia' 'Brazil' 'Chile'\n",
      " 'Egypt' 'Indonesia' 'Iran' 'Jamaica' 'Jordan' 'Kyrgyz Republic' 'Libya'\n",
      " 'Malaysia' 'Moldova' 'Nepal' 'Russia' 'Suriname' 'Tajikistan' 'Turkey'\n",
      " 'Ukraine' 'Uzbekistan' 'Vietnam']\n",
      "===========================================================================================\n",
      "Cluster3: ['Antigua and Barbuda' 'Armenia' 'Bahamas' 'Bangladesh' 'Barbados'\n",
      " 'Belize' 'Bhutan' 'Bulgaria' 'Cambodia' 'Cape Verde' 'China' 'Colombia'\n",
      " 'Croatia' 'Cyprus' 'Czech Republic' 'Dominican Republic' 'Ecuador'\n",
      " 'El Salvador' 'Estonia' 'Fiji' 'Georgia' 'Greece' 'Grenada' 'Guatemala'\n",
      " 'Guyana' 'Hungary' 'India' 'Israel' 'Italy' 'Japan' 'Latvia' 'Lithuania'\n",
      " 'Maldives' 'Mauritius' 'Micronesia, Fed. Sts.' 'Morocco' 'Myanmar'\n",
      " 'New Zealand' 'Panama' 'Paraguay' 'Peru' 'Philippines' 'Poland'\n",
      " 'Portugal' 'Romania' 'Samoa' 'Seychelles' 'Slovak Republic' 'Slovenia'\n",
      " 'South Korea' 'Spain' 'St. Vincent and the Grenadines' 'Tonga' 'Tunisia'\n",
      " 'Turkmenistan' 'Uruguay' 'Vanuatu']\n",
      "===========================================================================================\n",
      "Cluster4: ['Australia' 'Austria' 'Canada' 'Finland' 'France' 'Germany' 'Iceland'\n",
      " 'Malta' 'Sweden' 'United Kingdom' 'United States']\n",
      "===========================================================================================\n",
      "Cluster5: ['Congo, Rep.' 'Gabon' 'Ghana' 'Iraq' 'Kazakhstan' 'Kuwait' 'Mauritania'\n",
      " 'Oman' 'Sudan' 'United Arab Emirates' 'Yemen']\n"
     ]
    }
   ],
   "source": [
    "#Print clustered countries with dendrogram\n",
    "\n",
    "print('Cluster1:',Cluster1)\n",
    "print('===========================================================================================')\n",
    "print('Cluster2:',Cluster2)\n",
    "print('===========================================================================================')\n",
    "print('Cluster3:',Cluster3)\n",
    "print('===========================================================================================')\n",
    "print('Cluster4:',Cluster4)\n",
    "print('===========================================================================================')\n",
    "print('Cluster5:',Cluster5)"
   ]
  },
  {
   "cell_type": "code",
   "execution_count": null,
   "metadata": {},
   "outputs": [],
   "source": []
  }
 ],
 "metadata": {
  "kernelspec": {
   "display_name": "Python 3",
   "language": "python",
   "name": "python3"
  },
  "language_info": {
   "codemirror_mode": {
    "name": "ipython",
    "version": 3
   },
   "file_extension": ".py",
   "mimetype": "text/x-python",
   "name": "python",
   "nbconvert_exporter": "python",
   "pygments_lexer": "ipython3",
   "version": "3.8.3"
  }
 },
 "nbformat": 4,
 "nbformat_minor": 4
}
